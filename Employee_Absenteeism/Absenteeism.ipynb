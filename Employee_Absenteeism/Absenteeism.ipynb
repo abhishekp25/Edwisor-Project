{
 "cells": [
  {
   "cell_type": "code",
   "execution_count": 551,
   "metadata": {},
   "outputs": [],
   "source": [
    "import os\n",
    "import pandas as pd\n",
    "import numpy as np\n",
    "\n",
    "pd.set_option('display.max_columns', 250)\n",
    "pd.set_option('display.width', 200)\n",
    "pd.set_option('display.max_rows', 400)\n",
    "import seaborn as sns\n",
    "import matplotlib.pyplot as plt"
   ]
  },
  {
   "cell_type": "code",
   "execution_count": 552,
   "metadata": {},
   "outputs": [],
   "source": [
    "os.chdir(\"D:\\Rfiles\")"
   ]
  },
  {
   "cell_type": "code",
   "execution_count": 553,
   "metadata": {},
   "outputs": [],
   "source": [
    "absent = pd.read_csv(\"Absent.csv\")"
   ]
  },
  {
   "cell_type": "code",
   "execution_count": 554,
   "metadata": {},
   "outputs": [
    {
     "data": {
      "text/html": [
       "<div>\n",
       "<style scoped>\n",
       "    .dataframe tbody tr th:only-of-type {\n",
       "        vertical-align: middle;\n",
       "    }\n",
       "\n",
       "    .dataframe tbody tr th {\n",
       "        vertical-align: top;\n",
       "    }\n",
       "\n",
       "    .dataframe thead th {\n",
       "        text-align: right;\n",
       "    }\n",
       "</style>\n",
       "<table border=\"1\" class=\"dataframe\">\n",
       "  <thead>\n",
       "    <tr style=\"text-align: right;\">\n",
       "      <th></th>\n",
       "      <th>ID</th>\n",
       "      <th>Reason for absence</th>\n",
       "      <th>Month of absence</th>\n",
       "      <th>Day of the week</th>\n",
       "      <th>Seasons</th>\n",
       "      <th>Transportation expense</th>\n",
       "      <th>Distance from Residence to Work</th>\n",
       "      <th>Service time</th>\n",
       "      <th>Age</th>\n",
       "      <th>Work load Average/day</th>\n",
       "      <th>Hit target</th>\n",
       "      <th>Disciplinary failure</th>\n",
       "      <th>Education</th>\n",
       "      <th>Son</th>\n",
       "      <th>Social drinker</th>\n",
       "      <th>Social smoker</th>\n",
       "      <th>Pet</th>\n",
       "      <th>Weight</th>\n",
       "      <th>Height</th>\n",
       "      <th>Body mass index</th>\n",
       "      <th>Absenteeism time in hours</th>\n",
       "    </tr>\n",
       "  </thead>\n",
       "  <tbody>\n",
       "    <tr>\n",
       "      <th>0</th>\n",
       "      <td>11</td>\n",
       "      <td>26.0</td>\n",
       "      <td>7.0</td>\n",
       "      <td>3</td>\n",
       "      <td>1</td>\n",
       "      <td>289.0</td>\n",
       "      <td>36.0</td>\n",
       "      <td>13.0</td>\n",
       "      <td>33.0</td>\n",
       "      <td>239,554</td>\n",
       "      <td>97.0</td>\n",
       "      <td>0.0</td>\n",
       "      <td>1.0</td>\n",
       "      <td>2.0</td>\n",
       "      <td>1.0</td>\n",
       "      <td>0.0</td>\n",
       "      <td>1.0</td>\n",
       "      <td>90.0</td>\n",
       "      <td>172.0</td>\n",
       "      <td>30.0</td>\n",
       "      <td>4.0</td>\n",
       "    </tr>\n",
       "    <tr>\n",
       "      <th>1</th>\n",
       "      <td>36</td>\n",
       "      <td>0.0</td>\n",
       "      <td>7.0</td>\n",
       "      <td>3</td>\n",
       "      <td>1</td>\n",
       "      <td>118.0</td>\n",
       "      <td>13.0</td>\n",
       "      <td>18.0</td>\n",
       "      <td>50.0</td>\n",
       "      <td>239,554</td>\n",
       "      <td>97.0</td>\n",
       "      <td>1.0</td>\n",
       "      <td>1.0</td>\n",
       "      <td>1.0</td>\n",
       "      <td>1.0</td>\n",
       "      <td>0.0</td>\n",
       "      <td>0.0</td>\n",
       "      <td>98.0</td>\n",
       "      <td>178.0</td>\n",
       "      <td>31.0</td>\n",
       "      <td>0.0</td>\n",
       "    </tr>\n",
       "    <tr>\n",
       "      <th>2</th>\n",
       "      <td>3</td>\n",
       "      <td>23.0</td>\n",
       "      <td>7.0</td>\n",
       "      <td>4</td>\n",
       "      <td>1</td>\n",
       "      <td>179.0</td>\n",
       "      <td>51.0</td>\n",
       "      <td>18.0</td>\n",
       "      <td>38.0</td>\n",
       "      <td>239,554</td>\n",
       "      <td>97.0</td>\n",
       "      <td>0.0</td>\n",
       "      <td>1.0</td>\n",
       "      <td>0.0</td>\n",
       "      <td>1.0</td>\n",
       "      <td>0.0</td>\n",
       "      <td>0.0</td>\n",
       "      <td>89.0</td>\n",
       "      <td>170.0</td>\n",
       "      <td>31.0</td>\n",
       "      <td>2.0</td>\n",
       "    </tr>\n",
       "    <tr>\n",
       "      <th>3</th>\n",
       "      <td>7</td>\n",
       "      <td>7.0</td>\n",
       "      <td>7.0</td>\n",
       "      <td>5</td>\n",
       "      <td>1</td>\n",
       "      <td>279.0</td>\n",
       "      <td>5.0</td>\n",
       "      <td>14.0</td>\n",
       "      <td>39.0</td>\n",
       "      <td>239,554</td>\n",
       "      <td>97.0</td>\n",
       "      <td>0.0</td>\n",
       "      <td>1.0</td>\n",
       "      <td>2.0</td>\n",
       "      <td>1.0</td>\n",
       "      <td>1.0</td>\n",
       "      <td>0.0</td>\n",
       "      <td>68.0</td>\n",
       "      <td>168.0</td>\n",
       "      <td>24.0</td>\n",
       "      <td>4.0</td>\n",
       "    </tr>\n",
       "    <tr>\n",
       "      <th>4</th>\n",
       "      <td>11</td>\n",
       "      <td>23.0</td>\n",
       "      <td>7.0</td>\n",
       "      <td>5</td>\n",
       "      <td>1</td>\n",
       "      <td>289.0</td>\n",
       "      <td>36.0</td>\n",
       "      <td>13.0</td>\n",
       "      <td>33.0</td>\n",
       "      <td>239,554</td>\n",
       "      <td>97.0</td>\n",
       "      <td>0.0</td>\n",
       "      <td>1.0</td>\n",
       "      <td>2.0</td>\n",
       "      <td>1.0</td>\n",
       "      <td>0.0</td>\n",
       "      <td>1.0</td>\n",
       "      <td>90.0</td>\n",
       "      <td>172.0</td>\n",
       "      <td>30.0</td>\n",
       "      <td>2.0</td>\n",
       "    </tr>\n",
       "    <tr>\n",
       "      <th>5</th>\n",
       "      <td>3</td>\n",
       "      <td>23.0</td>\n",
       "      <td>7.0</td>\n",
       "      <td>6</td>\n",
       "      <td>1</td>\n",
       "      <td>179.0</td>\n",
       "      <td>51.0</td>\n",
       "      <td>18.0</td>\n",
       "      <td>38.0</td>\n",
       "      <td>239,554</td>\n",
       "      <td>97.0</td>\n",
       "      <td>0.0</td>\n",
       "      <td>1.0</td>\n",
       "      <td>0.0</td>\n",
       "      <td>1.0</td>\n",
       "      <td>0.0</td>\n",
       "      <td>0.0</td>\n",
       "      <td>89.0</td>\n",
       "      <td>170.0</td>\n",
       "      <td>31.0</td>\n",
       "      <td>NaN</td>\n",
       "    </tr>\n",
       "    <tr>\n",
       "      <th>6</th>\n",
       "      <td>10</td>\n",
       "      <td>22.0</td>\n",
       "      <td>7.0</td>\n",
       "      <td>6</td>\n",
       "      <td>1</td>\n",
       "      <td>NaN</td>\n",
       "      <td>52.0</td>\n",
       "      <td>3.0</td>\n",
       "      <td>28.0</td>\n",
       "      <td>239,554</td>\n",
       "      <td>97.0</td>\n",
       "      <td>0.0</td>\n",
       "      <td>1.0</td>\n",
       "      <td>1.0</td>\n",
       "      <td>1.0</td>\n",
       "      <td>0.0</td>\n",
       "      <td>4.0</td>\n",
       "      <td>80.0</td>\n",
       "      <td>172.0</td>\n",
       "      <td>27.0</td>\n",
       "      <td>8.0</td>\n",
       "    </tr>\n",
       "    <tr>\n",
       "      <th>7</th>\n",
       "      <td>20</td>\n",
       "      <td>23.0</td>\n",
       "      <td>7.0</td>\n",
       "      <td>6</td>\n",
       "      <td>1</td>\n",
       "      <td>260.0</td>\n",
       "      <td>50.0</td>\n",
       "      <td>11.0</td>\n",
       "      <td>36.0</td>\n",
       "      <td>239,554</td>\n",
       "      <td>97.0</td>\n",
       "      <td>0.0</td>\n",
       "      <td>1.0</td>\n",
       "      <td>4.0</td>\n",
       "      <td>1.0</td>\n",
       "      <td>0.0</td>\n",
       "      <td>0.0</td>\n",
       "      <td>65.0</td>\n",
       "      <td>168.0</td>\n",
       "      <td>23.0</td>\n",
       "      <td>4.0</td>\n",
       "    </tr>\n",
       "    <tr>\n",
       "      <th>8</th>\n",
       "      <td>14</td>\n",
       "      <td>19.0</td>\n",
       "      <td>7.0</td>\n",
       "      <td>2</td>\n",
       "      <td>1</td>\n",
       "      <td>155.0</td>\n",
       "      <td>12.0</td>\n",
       "      <td>14.0</td>\n",
       "      <td>34.0</td>\n",
       "      <td>239,554</td>\n",
       "      <td>97.0</td>\n",
       "      <td>0.0</td>\n",
       "      <td>1.0</td>\n",
       "      <td>2.0</td>\n",
       "      <td>1.0</td>\n",
       "      <td>0.0</td>\n",
       "      <td>0.0</td>\n",
       "      <td>95.0</td>\n",
       "      <td>196.0</td>\n",
       "      <td>25.0</td>\n",
       "      <td>40.0</td>\n",
       "    </tr>\n",
       "    <tr>\n",
       "      <th>9</th>\n",
       "      <td>1</td>\n",
       "      <td>22.0</td>\n",
       "      <td>7.0</td>\n",
       "      <td>2</td>\n",
       "      <td>1</td>\n",
       "      <td>235.0</td>\n",
       "      <td>11.0</td>\n",
       "      <td>14.0</td>\n",
       "      <td>37.0</td>\n",
       "      <td>239,554</td>\n",
       "      <td>97.0</td>\n",
       "      <td>0.0</td>\n",
       "      <td>3.0</td>\n",
       "      <td>1.0</td>\n",
       "      <td>0.0</td>\n",
       "      <td>0.0</td>\n",
       "      <td>1.0</td>\n",
       "      <td>88.0</td>\n",
       "      <td>172.0</td>\n",
       "      <td>29.0</td>\n",
       "      <td>8.0</td>\n",
       "    </tr>\n",
       "  </tbody>\n",
       "</table>\n",
       "</div>"
      ],
      "text/plain": [
       "   ID  Reason for absence  Month of absence  Day of the week  Seasons  Transportation expense  Distance from Residence to Work  Service time   Age Work load Average/day   Hit target  \\\n",
       "0  11                26.0               7.0                3        1                   289.0                             36.0          13.0  33.0                239,554        97.0   \n",
       "1  36                 0.0               7.0                3        1                   118.0                             13.0          18.0  50.0                239,554        97.0   \n",
       "2   3                23.0               7.0                4        1                   179.0                             51.0          18.0  38.0                239,554        97.0   \n",
       "3   7                 7.0               7.0                5        1                   279.0                              5.0          14.0  39.0                239,554        97.0   \n",
       "4  11                23.0               7.0                5        1                   289.0                             36.0          13.0  33.0                239,554        97.0   \n",
       "5   3                23.0               7.0                6        1                   179.0                             51.0          18.0  38.0                239,554        97.0   \n",
       "6  10                22.0               7.0                6        1                     NaN                             52.0           3.0  28.0                239,554        97.0   \n",
       "7  20                23.0               7.0                6        1                   260.0                             50.0          11.0  36.0                239,554        97.0   \n",
       "8  14                19.0               7.0                2        1                   155.0                             12.0          14.0  34.0                239,554        97.0   \n",
       "9   1                22.0               7.0                2        1                   235.0                             11.0          14.0  37.0                239,554        97.0   \n",
       "\n",
       "   Disciplinary failure  Education  Son  Social drinker  Social smoker  Pet  Weight  Height  Body mass index  Absenteeism time in hours  \n",
       "0                   0.0        1.0  2.0             1.0            0.0  1.0    90.0   172.0             30.0                        4.0  \n",
       "1                   1.0        1.0  1.0             1.0            0.0  0.0    98.0   178.0             31.0                        0.0  \n",
       "2                   0.0        1.0  0.0             1.0            0.0  0.0    89.0   170.0             31.0                        2.0  \n",
       "3                   0.0        1.0  2.0             1.0            1.0  0.0    68.0   168.0             24.0                        4.0  \n",
       "4                   0.0        1.0  2.0             1.0            0.0  1.0    90.0   172.0             30.0                        2.0  \n",
       "5                   0.0        1.0  0.0             1.0            0.0  0.0    89.0   170.0             31.0                        NaN  \n",
       "6                   0.0        1.0  1.0             1.0            0.0  4.0    80.0   172.0             27.0                        8.0  \n",
       "7                   0.0        1.0  4.0             1.0            0.0  0.0    65.0   168.0             23.0                        4.0  \n",
       "8                   0.0        1.0  2.0             1.0            0.0  0.0    95.0   196.0             25.0                       40.0  \n",
       "9                   0.0        3.0  1.0             0.0            0.0  1.0    88.0   172.0             29.0                        8.0  "
      ]
     },
     "execution_count": 554,
     "metadata": {},
     "output_type": "execute_result"
    }
   ],
   "source": [
    "absent.head(10)"
   ]
  },
  {
   "cell_type": "code",
   "execution_count": null,
   "metadata": {},
   "outputs": [],
   "source": []
  },
  {
   "cell_type": "code",
   "execution_count": 555,
   "metadata": {},
   "outputs": [],
   "source": [
    "#as reason cant be zero\n",
    "absent['Reason for absence'] = absent['Reason for absence'].replace(0,20)\n",
    "\n",
    "#as month cant be zero\n",
    "absent['Month of absence'] = absent['Month of absence'].replace(0,np.nan)"
   ]
  },
  {
   "cell_type": "code",
   "execution_count": 556,
   "metadata": {},
   "outputs": [
    {
     "data": {
      "text/plain": [
       "ID                                 36\n",
       "Reason for absence                 28\n",
       "Month of absence                   12\n",
       "Day of the week                     5\n",
       "Seasons                             4\n",
       "Transportation expense             24\n",
       "Distance from Residence to Work    25\n",
       "Service time                       18\n",
       "Age                                22\n",
       "Work load Average/day              38\n",
       "Hit target                         13\n",
       "Disciplinary failure                2\n",
       "Education                           4\n",
       "Son                                 5\n",
       "Social drinker                      2\n",
       "Social smoker                       2\n",
       "Pet                                 6\n",
       "Weight                             26\n",
       "Height                             14\n",
       "Body mass index                    17\n",
       "Absenteeism time in hours          19\n",
       "dtype: int64"
      ]
     },
     "execution_count": 556,
     "metadata": {},
     "output_type": "execute_result"
    }
   ],
   "source": [
    "absent.nunique()"
   ]
  },
  {
   "cell_type": "code",
   "execution_count": 557,
   "metadata": {},
   "outputs": [
    {
     "data": {
      "text/plain": [
       "(740, 21)"
      ]
     },
     "execution_count": 557,
     "metadata": {},
     "output_type": "execute_result"
    }
   ],
   "source": [
    "absent.shape"
   ]
  },
  {
   "cell_type": "code",
   "execution_count": 558,
   "metadata": {},
   "outputs": [
    {
     "data": {
      "text/plain": [
       "Index(['ID', 'Reason for absence', 'Month of absence', 'Day of the week', 'Seasons', 'Transportation expense', 'Distance from Residence to Work', 'Service time', 'Age', 'Work load Average/day ',\n",
       "       'Hit target', 'Disciplinary failure', 'Education', 'Son', 'Social drinker', 'Social smoker', 'Pet', 'Weight', 'Height', 'Body mass index', 'Absenteeism time in hours'],\n",
       "      dtype='object')"
      ]
     },
     "execution_count": 558,
     "metadata": {},
     "output_type": "execute_result"
    }
   ],
   "source": [
    "absent.columns"
   ]
  },
  {
   "cell_type": "code",
   "execution_count": 559,
   "metadata": {},
   "outputs": [
    {
     "data": {
      "text/plain": [
       "740"
      ]
     },
     "execution_count": 559,
     "metadata": {},
     "output_type": "execute_result"
    }
   ],
   "source": [
    "#no of rows\n",
    "nrows= (absent.shape)\n",
    "nrows[0]"
   ]
  },
  {
   "cell_type": "code",
   "execution_count": 560,
   "metadata": {},
   "outputs": [
    {
     "data": {
      "text/html": [
       "<div>\n",
       "<style scoped>\n",
       "    .dataframe tbody tr th:only-of-type {\n",
       "        vertical-align: middle;\n",
       "    }\n",
       "\n",
       "    .dataframe tbody tr th {\n",
       "        vertical-align: top;\n",
       "    }\n",
       "\n",
       "    .dataframe thead th {\n",
       "        text-align: right;\n",
       "    }\n",
       "</style>\n",
       "<table border=\"1\" class=\"dataframe\">\n",
       "  <thead>\n",
       "    <tr style=\"text-align: right;\">\n",
       "      <th></th>\n",
       "      <th>ID</th>\n",
       "      <th>Reason for absence</th>\n",
       "      <th>Month of absence</th>\n",
       "      <th>Day of the week</th>\n",
       "      <th>Seasons</th>\n",
       "      <th>Transportation expense</th>\n",
       "      <th>Distance from Residence to Work</th>\n",
       "      <th>Service time</th>\n",
       "      <th>Age</th>\n",
       "      <th>Work load Average/day</th>\n",
       "      <th>Hit target</th>\n",
       "      <th>Disciplinary failure</th>\n",
       "      <th>Education</th>\n",
       "      <th>Son</th>\n",
       "      <th>Social drinker</th>\n",
       "      <th>Social smoker</th>\n",
       "      <th>Pet</th>\n",
       "      <th>Weight</th>\n",
       "      <th>Height</th>\n",
       "      <th>Body mass index</th>\n",
       "      <th>Absenteeism time in hours</th>\n",
       "    </tr>\n",
       "  </thead>\n",
       "  <tbody>\n",
       "    <tr>\n",
       "      <th>0</th>\n",
       "      <td>11</td>\n",
       "      <td>26.0</td>\n",
       "      <td>7.0</td>\n",
       "      <td>3</td>\n",
       "      <td>1</td>\n",
       "      <td>289.0</td>\n",
       "      <td>36.0</td>\n",
       "      <td>13.0</td>\n",
       "      <td>33.0</td>\n",
       "      <td>239,554</td>\n",
       "      <td>97.0</td>\n",
       "      <td>0.0</td>\n",
       "      <td>1.0</td>\n",
       "      <td>2.0</td>\n",
       "      <td>1.0</td>\n",
       "      <td>0.0</td>\n",
       "      <td>1.0</td>\n",
       "      <td>90.0</td>\n",
       "      <td>172.0</td>\n",
       "      <td>30.0</td>\n",
       "      <td>4.0</td>\n",
       "    </tr>\n",
       "    <tr>\n",
       "      <th>1</th>\n",
       "      <td>36</td>\n",
       "      <td>20.0</td>\n",
       "      <td>7.0</td>\n",
       "      <td>3</td>\n",
       "      <td>1</td>\n",
       "      <td>118.0</td>\n",
       "      <td>13.0</td>\n",
       "      <td>18.0</td>\n",
       "      <td>50.0</td>\n",
       "      <td>239,554</td>\n",
       "      <td>97.0</td>\n",
       "      <td>1.0</td>\n",
       "      <td>1.0</td>\n",
       "      <td>1.0</td>\n",
       "      <td>1.0</td>\n",
       "      <td>0.0</td>\n",
       "      <td>0.0</td>\n",
       "      <td>98.0</td>\n",
       "      <td>178.0</td>\n",
       "      <td>31.0</td>\n",
       "      <td>0.0</td>\n",
       "    </tr>\n",
       "    <tr>\n",
       "      <th>2</th>\n",
       "      <td>3</td>\n",
       "      <td>23.0</td>\n",
       "      <td>7.0</td>\n",
       "      <td>4</td>\n",
       "      <td>1</td>\n",
       "      <td>179.0</td>\n",
       "      <td>51.0</td>\n",
       "      <td>18.0</td>\n",
       "      <td>38.0</td>\n",
       "      <td>239,554</td>\n",
       "      <td>97.0</td>\n",
       "      <td>0.0</td>\n",
       "      <td>1.0</td>\n",
       "      <td>0.0</td>\n",
       "      <td>1.0</td>\n",
       "      <td>0.0</td>\n",
       "      <td>0.0</td>\n",
       "      <td>89.0</td>\n",
       "      <td>170.0</td>\n",
       "      <td>31.0</td>\n",
       "      <td>2.0</td>\n",
       "    </tr>\n",
       "    <tr>\n",
       "      <th>3</th>\n",
       "      <td>7</td>\n",
       "      <td>7.0</td>\n",
       "      <td>7.0</td>\n",
       "      <td>5</td>\n",
       "      <td>1</td>\n",
       "      <td>279.0</td>\n",
       "      <td>5.0</td>\n",
       "      <td>14.0</td>\n",
       "      <td>39.0</td>\n",
       "      <td>239,554</td>\n",
       "      <td>97.0</td>\n",
       "      <td>0.0</td>\n",
       "      <td>1.0</td>\n",
       "      <td>2.0</td>\n",
       "      <td>1.0</td>\n",
       "      <td>1.0</td>\n",
       "      <td>0.0</td>\n",
       "      <td>68.0</td>\n",
       "      <td>168.0</td>\n",
       "      <td>24.0</td>\n",
       "      <td>4.0</td>\n",
       "    </tr>\n",
       "    <tr>\n",
       "      <th>4</th>\n",
       "      <td>11</td>\n",
       "      <td>23.0</td>\n",
       "      <td>7.0</td>\n",
       "      <td>5</td>\n",
       "      <td>1</td>\n",
       "      <td>289.0</td>\n",
       "      <td>36.0</td>\n",
       "      <td>13.0</td>\n",
       "      <td>33.0</td>\n",
       "      <td>239,554</td>\n",
       "      <td>97.0</td>\n",
       "      <td>0.0</td>\n",
       "      <td>1.0</td>\n",
       "      <td>2.0</td>\n",
       "      <td>1.0</td>\n",
       "      <td>0.0</td>\n",
       "      <td>1.0</td>\n",
       "      <td>90.0</td>\n",
       "      <td>172.0</td>\n",
       "      <td>30.0</td>\n",
       "      <td>2.0</td>\n",
       "    </tr>\n",
       "  </tbody>\n",
       "</table>\n",
       "</div>"
      ],
      "text/plain": [
       "   ID  Reason for absence  Month of absence  Day of the week  Seasons  Transportation expense  Distance from Residence to Work  Service time   Age Work load Average/day   Hit target  \\\n",
       "0  11                26.0               7.0                3        1                   289.0                             36.0          13.0  33.0                239,554        97.0   \n",
       "1  36                20.0               7.0                3        1                   118.0                             13.0          18.0  50.0                239,554        97.0   \n",
       "2   3                23.0               7.0                4        1                   179.0                             51.0          18.0  38.0                239,554        97.0   \n",
       "3   7                 7.0               7.0                5        1                   279.0                              5.0          14.0  39.0                239,554        97.0   \n",
       "4  11                23.0               7.0                5        1                   289.0                             36.0          13.0  33.0                239,554        97.0   \n",
       "\n",
       "   Disciplinary failure  Education  Son  Social drinker  Social smoker  Pet  Weight  Height  Body mass index  Absenteeism time in hours  \n",
       "0                   0.0        1.0  2.0             1.0            0.0  1.0    90.0   172.0             30.0                        4.0  \n",
       "1                   1.0        1.0  1.0             1.0            0.0  0.0    98.0   178.0             31.0                        0.0  \n",
       "2                   0.0        1.0  0.0             1.0            0.0  0.0    89.0   170.0             31.0                        2.0  \n",
       "3                   0.0        1.0  2.0             1.0            1.0  0.0    68.0   168.0             24.0                        4.0  \n",
       "4                   0.0        1.0  2.0             1.0            0.0  1.0    90.0   172.0             30.0                        2.0  "
      ]
     },
     "execution_count": 560,
     "metadata": {},
     "output_type": "execute_result"
    }
   ],
   "source": [
    "absent.head()"
   ]
  },
  {
   "cell_type": "code",
   "execution_count": 561,
   "metadata": {},
   "outputs": [
    {
     "data": {
      "text/plain": [
       "ID                                   int64\n",
       "Reason for absence                 float64\n",
       "Month of absence                   float64\n",
       "Day of the week                      int64\n",
       "Seasons                              int64\n",
       "Transportation expense             float64\n",
       "Distance from Residence to Work    float64\n",
       "Service time                       float64\n",
       "Age                                float64\n",
       "Work load Average/day               object\n",
       "Hit target                         float64\n",
       "Disciplinary failure               float64\n",
       "Education                          float64\n",
       "Son                                float64\n",
       "Social drinker                     float64\n",
       "Social smoker                      float64\n",
       "Pet                                float64\n",
       "Weight                             float64\n",
       "Height                             float64\n",
       "Body mass index                    float64\n",
       "Absenteeism time in hours          float64\n",
       "dtype: object"
      ]
     },
     "execution_count": 561,
     "metadata": {},
     "output_type": "execute_result"
    }
   ],
   "source": [
    "absent.dtypes"
   ]
  },
  {
   "cell_type": "code",
   "execution_count": 562,
   "metadata": {},
   "outputs": [],
   "source": [
    "#renaming the column\n",
    "absent = absent.rename(columns = {'Work load Average/day ': 'Work load Average per day'})"
   ]
  },
  {
   "cell_type": "markdown",
   "metadata": {},
   "source": [
    "as the column 'Work load Average per day' has \",\" in its values we need to replace it"
   ]
  },
  {
   "cell_type": "code",
   "execution_count": null,
   "metadata": {},
   "outputs": [],
   "source": []
  },
  {
   "cell_type": "code",
   "execution_count": 563,
   "metadata": {},
   "outputs": [],
   "source": [
    "absent['Work load Average per day']= absent['Work load Average per day'].str.replace(',','')"
   ]
  },
  {
   "cell_type": "code",
   "execution_count": 564,
   "metadata": {},
   "outputs": [
    {
     "data": {
      "text/plain": [
       "0    239554\n",
       "1    239554\n",
       "2    239554\n",
       "3    239554\n",
       "4    239554\n",
       "Name: Work load Average per day, dtype: object"
      ]
     },
     "execution_count": 564,
     "metadata": {},
     "output_type": "execute_result"
    }
   ],
   "source": [
    "absent['Work load Average per day'].head()"
   ]
  },
  {
   "cell_type": "markdown",
   "metadata": {},
   "source": [
    "# missing value "
   ]
  },
  {
   "cell_type": "code",
   "execution_count": 565,
   "metadata": {},
   "outputs": [],
   "source": [
    "missing = pd.DataFrame(absent.isnull().sum())"
   ]
  },
  {
   "cell_type": "code",
   "execution_count": 566,
   "metadata": {},
   "outputs": [
    {
     "data": {
      "text/html": [
       "<div>\n",
       "<style scoped>\n",
       "    .dataframe tbody tr th:only-of-type {\n",
       "        vertical-align: middle;\n",
       "    }\n",
       "\n",
       "    .dataframe tbody tr th {\n",
       "        vertical-align: top;\n",
       "    }\n",
       "\n",
       "    .dataframe thead th {\n",
       "        text-align: right;\n",
       "    }\n",
       "</style>\n",
       "<table border=\"1\" class=\"dataframe\">\n",
       "  <thead>\n",
       "    <tr style=\"text-align: right;\">\n",
       "      <th></th>\n",
       "      <th>0</th>\n",
       "    </tr>\n",
       "  </thead>\n",
       "  <tbody>\n",
       "    <tr>\n",
       "      <th>ID</th>\n",
       "      <td>0</td>\n",
       "    </tr>\n",
       "    <tr>\n",
       "      <th>Reason for absence</th>\n",
       "      <td>3</td>\n",
       "    </tr>\n",
       "    <tr>\n",
       "      <th>Month of absence</th>\n",
       "      <td>4</td>\n",
       "    </tr>\n",
       "    <tr>\n",
       "      <th>Day of the week</th>\n",
       "      <td>0</td>\n",
       "    </tr>\n",
       "    <tr>\n",
       "      <th>Seasons</th>\n",
       "      <td>0</td>\n",
       "    </tr>\n",
       "    <tr>\n",
       "      <th>Transportation expense</th>\n",
       "      <td>7</td>\n",
       "    </tr>\n",
       "    <tr>\n",
       "      <th>Distance from Residence to Work</th>\n",
       "      <td>3</td>\n",
       "    </tr>\n",
       "    <tr>\n",
       "      <th>Service time</th>\n",
       "      <td>3</td>\n",
       "    </tr>\n",
       "    <tr>\n",
       "      <th>Age</th>\n",
       "      <td>3</td>\n",
       "    </tr>\n",
       "    <tr>\n",
       "      <th>Work load Average per day</th>\n",
       "      <td>10</td>\n",
       "    </tr>\n",
       "    <tr>\n",
       "      <th>Hit target</th>\n",
       "      <td>6</td>\n",
       "    </tr>\n",
       "    <tr>\n",
       "      <th>Disciplinary failure</th>\n",
       "      <td>6</td>\n",
       "    </tr>\n",
       "    <tr>\n",
       "      <th>Education</th>\n",
       "      <td>10</td>\n",
       "    </tr>\n",
       "    <tr>\n",
       "      <th>Son</th>\n",
       "      <td>6</td>\n",
       "    </tr>\n",
       "    <tr>\n",
       "      <th>Social drinker</th>\n",
       "      <td>3</td>\n",
       "    </tr>\n",
       "    <tr>\n",
       "      <th>Social smoker</th>\n",
       "      <td>4</td>\n",
       "    </tr>\n",
       "    <tr>\n",
       "      <th>Pet</th>\n",
       "      <td>2</td>\n",
       "    </tr>\n",
       "    <tr>\n",
       "      <th>Weight</th>\n",
       "      <td>1</td>\n",
       "    </tr>\n",
       "    <tr>\n",
       "      <th>Height</th>\n",
       "      <td>14</td>\n",
       "    </tr>\n",
       "    <tr>\n",
       "      <th>Body mass index</th>\n",
       "      <td>31</td>\n",
       "    </tr>\n",
       "    <tr>\n",
       "      <th>Absenteeism time in hours</th>\n",
       "      <td>22</td>\n",
       "    </tr>\n",
       "  </tbody>\n",
       "</table>\n",
       "</div>"
      ],
      "text/plain": [
       "                                  0\n",
       "ID                                0\n",
       "Reason for absence                3\n",
       "Month of absence                  4\n",
       "Day of the week                   0\n",
       "Seasons                           0\n",
       "Transportation expense            7\n",
       "Distance from Residence to Work   3\n",
       "Service time                      3\n",
       "Age                               3\n",
       "Work load Average per day        10\n",
       "Hit target                        6\n",
       "Disciplinary failure              6\n",
       "Education                        10\n",
       "Son                               6\n",
       "Social drinker                    3\n",
       "Social smoker                     4\n",
       "Pet                               2\n",
       "Weight                            1\n",
       "Height                           14\n",
       "Body mass index                  31\n",
       "Absenteeism time in hours        22"
      ]
     },
     "execution_count": 566,
     "metadata": {},
     "output_type": "execute_result"
    }
   ],
   "source": [
    "missing"
   ]
  },
  {
   "cell_type": "markdown",
   "metadata": {},
   "source": [
    "#converting the data type of 'work load average per day' to numeric"
   ]
  },
  {
   "cell_type": "code",
   "execution_count": 567,
   "metadata": {},
   "outputs": [],
   "source": [
    "\n",
    "absent['Work load Average per day']= pd.to_numeric(absent['Work load Average per day'])"
   ]
  },
  {
   "cell_type": "code",
   "execution_count": 568,
   "metadata": {},
   "outputs": [
    {
     "data": {
      "text/plain": [
       "dtype('float64')"
      ]
     },
     "execution_count": 568,
     "metadata": {},
     "output_type": "execute_result"
    }
   ],
   "source": [
    "absent['Work load Average per day'].dtypes"
   ]
  },
  {
   "cell_type": "code",
   "execution_count": 569,
   "metadata": {},
   "outputs": [],
   "source": [
    "#reseting the index\n",
    "missing = missing.reset_index()"
   ]
  },
  {
   "cell_type": "code",
   "execution_count": 570,
   "metadata": {},
   "outputs": [],
   "source": [
    "missing = missing.rename(columns = {'index': 'variable', 0 : 'missing_value'})"
   ]
  },
  {
   "cell_type": "code",
   "execution_count": 571,
   "metadata": {},
   "outputs": [
    {
     "data": {
      "text/html": [
       "<div>\n",
       "<style scoped>\n",
       "    .dataframe tbody tr th:only-of-type {\n",
       "        vertical-align: middle;\n",
       "    }\n",
       "\n",
       "    .dataframe tbody tr th {\n",
       "        vertical-align: top;\n",
       "    }\n",
       "\n",
       "    .dataframe thead th {\n",
       "        text-align: right;\n",
       "    }\n",
       "</style>\n",
       "<table border=\"1\" class=\"dataframe\">\n",
       "  <thead>\n",
       "    <tr style=\"text-align: right;\">\n",
       "      <th></th>\n",
       "      <th>variable</th>\n",
       "      <th>missing_value</th>\n",
       "    </tr>\n",
       "  </thead>\n",
       "  <tbody>\n",
       "    <tr>\n",
       "      <th>0</th>\n",
       "      <td>ID</td>\n",
       "      <td>0</td>\n",
       "    </tr>\n",
       "    <tr>\n",
       "      <th>1</th>\n",
       "      <td>Reason for absence</td>\n",
       "      <td>3</td>\n",
       "    </tr>\n",
       "    <tr>\n",
       "      <th>2</th>\n",
       "      <td>Month of absence</td>\n",
       "      <td>4</td>\n",
       "    </tr>\n",
       "    <tr>\n",
       "      <th>3</th>\n",
       "      <td>Day of the week</td>\n",
       "      <td>0</td>\n",
       "    </tr>\n",
       "    <tr>\n",
       "      <th>4</th>\n",
       "      <td>Seasons</td>\n",
       "      <td>0</td>\n",
       "    </tr>\n",
       "    <tr>\n",
       "      <th>5</th>\n",
       "      <td>Transportation expense</td>\n",
       "      <td>7</td>\n",
       "    </tr>\n",
       "    <tr>\n",
       "      <th>6</th>\n",
       "      <td>Distance from Residence to Work</td>\n",
       "      <td>3</td>\n",
       "    </tr>\n",
       "    <tr>\n",
       "      <th>7</th>\n",
       "      <td>Service time</td>\n",
       "      <td>3</td>\n",
       "    </tr>\n",
       "    <tr>\n",
       "      <th>8</th>\n",
       "      <td>Age</td>\n",
       "      <td>3</td>\n",
       "    </tr>\n",
       "    <tr>\n",
       "      <th>9</th>\n",
       "      <td>Work load Average per day</td>\n",
       "      <td>10</td>\n",
       "    </tr>\n",
       "    <tr>\n",
       "      <th>10</th>\n",
       "      <td>Hit target</td>\n",
       "      <td>6</td>\n",
       "    </tr>\n",
       "    <tr>\n",
       "      <th>11</th>\n",
       "      <td>Disciplinary failure</td>\n",
       "      <td>6</td>\n",
       "    </tr>\n",
       "    <tr>\n",
       "      <th>12</th>\n",
       "      <td>Education</td>\n",
       "      <td>10</td>\n",
       "    </tr>\n",
       "    <tr>\n",
       "      <th>13</th>\n",
       "      <td>Son</td>\n",
       "      <td>6</td>\n",
       "    </tr>\n",
       "    <tr>\n",
       "      <th>14</th>\n",
       "      <td>Social drinker</td>\n",
       "      <td>3</td>\n",
       "    </tr>\n",
       "    <tr>\n",
       "      <th>15</th>\n",
       "      <td>Social smoker</td>\n",
       "      <td>4</td>\n",
       "    </tr>\n",
       "    <tr>\n",
       "      <th>16</th>\n",
       "      <td>Pet</td>\n",
       "      <td>2</td>\n",
       "    </tr>\n",
       "    <tr>\n",
       "      <th>17</th>\n",
       "      <td>Weight</td>\n",
       "      <td>1</td>\n",
       "    </tr>\n",
       "    <tr>\n",
       "      <th>18</th>\n",
       "      <td>Height</td>\n",
       "      <td>14</td>\n",
       "    </tr>\n",
       "    <tr>\n",
       "      <th>19</th>\n",
       "      <td>Body mass index</td>\n",
       "      <td>31</td>\n",
       "    </tr>\n",
       "    <tr>\n",
       "      <th>20</th>\n",
       "      <td>Absenteeism time in hours</td>\n",
       "      <td>22</td>\n",
       "    </tr>\n",
       "  </tbody>\n",
       "</table>\n",
       "</div>"
      ],
      "text/plain": [
       "                           variable  missing_value\n",
       "0                                ID              0\n",
       "1                Reason for absence              3\n",
       "2                  Month of absence              4\n",
       "3                   Day of the week              0\n",
       "4                           Seasons              0\n",
       "5            Transportation expense              7\n",
       "6   Distance from Residence to Work              3\n",
       "7                      Service time              3\n",
       "8                               Age              3\n",
       "9         Work load Average per day             10\n",
       "10                       Hit target              6\n",
       "11             Disciplinary failure              6\n",
       "12                        Education             10\n",
       "13                              Son              6\n",
       "14                   Social drinker              3\n",
       "15                    Social smoker              4\n",
       "16                              Pet              2\n",
       "17                           Weight              1\n",
       "18                           Height             14\n",
       "19                  Body mass index             31\n",
       "20        Absenteeism time in hours             22"
      ]
     },
     "execution_count": 571,
     "metadata": {},
     "output_type": "execute_result"
    }
   ],
   "source": [
    "missing"
   ]
  },
  {
   "cell_type": "code",
   "execution_count": 572,
   "metadata": {},
   "outputs": [],
   "source": [
    "missing['missing_percent']= (missing['missing_value']/(nrows[0]))*100"
   ]
  },
  {
   "cell_type": "code",
   "execution_count": 573,
   "metadata": {},
   "outputs": [
    {
     "data": {
      "text/html": [
       "<div>\n",
       "<style scoped>\n",
       "    .dataframe tbody tr th:only-of-type {\n",
       "        vertical-align: middle;\n",
       "    }\n",
       "\n",
       "    .dataframe tbody tr th {\n",
       "        vertical-align: top;\n",
       "    }\n",
       "\n",
       "    .dataframe thead th {\n",
       "        text-align: right;\n",
       "    }\n",
       "</style>\n",
       "<table border=\"1\" class=\"dataframe\">\n",
       "  <thead>\n",
       "    <tr style=\"text-align: right;\">\n",
       "      <th></th>\n",
       "      <th>variable</th>\n",
       "      <th>missing_value</th>\n",
       "      <th>missing_percent</th>\n",
       "    </tr>\n",
       "  </thead>\n",
       "  <tbody>\n",
       "    <tr>\n",
       "      <th>0</th>\n",
       "      <td>ID</td>\n",
       "      <td>0</td>\n",
       "      <td>0.000000</td>\n",
       "    </tr>\n",
       "    <tr>\n",
       "      <th>1</th>\n",
       "      <td>Reason for absence</td>\n",
       "      <td>3</td>\n",
       "      <td>0.405405</td>\n",
       "    </tr>\n",
       "    <tr>\n",
       "      <th>2</th>\n",
       "      <td>Month of absence</td>\n",
       "      <td>4</td>\n",
       "      <td>0.540541</td>\n",
       "    </tr>\n",
       "    <tr>\n",
       "      <th>3</th>\n",
       "      <td>Day of the week</td>\n",
       "      <td>0</td>\n",
       "      <td>0.000000</td>\n",
       "    </tr>\n",
       "    <tr>\n",
       "      <th>4</th>\n",
       "      <td>Seasons</td>\n",
       "      <td>0</td>\n",
       "      <td>0.000000</td>\n",
       "    </tr>\n",
       "    <tr>\n",
       "      <th>5</th>\n",
       "      <td>Transportation expense</td>\n",
       "      <td>7</td>\n",
       "      <td>0.945946</td>\n",
       "    </tr>\n",
       "    <tr>\n",
       "      <th>6</th>\n",
       "      <td>Distance from Residence to Work</td>\n",
       "      <td>3</td>\n",
       "      <td>0.405405</td>\n",
       "    </tr>\n",
       "    <tr>\n",
       "      <th>7</th>\n",
       "      <td>Service time</td>\n",
       "      <td>3</td>\n",
       "      <td>0.405405</td>\n",
       "    </tr>\n",
       "    <tr>\n",
       "      <th>8</th>\n",
       "      <td>Age</td>\n",
       "      <td>3</td>\n",
       "      <td>0.405405</td>\n",
       "    </tr>\n",
       "    <tr>\n",
       "      <th>9</th>\n",
       "      <td>Work load Average per day</td>\n",
       "      <td>10</td>\n",
       "      <td>1.351351</td>\n",
       "    </tr>\n",
       "    <tr>\n",
       "      <th>10</th>\n",
       "      <td>Hit target</td>\n",
       "      <td>6</td>\n",
       "      <td>0.810811</td>\n",
       "    </tr>\n",
       "    <tr>\n",
       "      <th>11</th>\n",
       "      <td>Disciplinary failure</td>\n",
       "      <td>6</td>\n",
       "      <td>0.810811</td>\n",
       "    </tr>\n",
       "    <tr>\n",
       "      <th>12</th>\n",
       "      <td>Education</td>\n",
       "      <td>10</td>\n",
       "      <td>1.351351</td>\n",
       "    </tr>\n",
       "    <tr>\n",
       "      <th>13</th>\n",
       "      <td>Son</td>\n",
       "      <td>6</td>\n",
       "      <td>0.810811</td>\n",
       "    </tr>\n",
       "    <tr>\n",
       "      <th>14</th>\n",
       "      <td>Social drinker</td>\n",
       "      <td>3</td>\n",
       "      <td>0.405405</td>\n",
       "    </tr>\n",
       "    <tr>\n",
       "      <th>15</th>\n",
       "      <td>Social smoker</td>\n",
       "      <td>4</td>\n",
       "      <td>0.540541</td>\n",
       "    </tr>\n",
       "    <tr>\n",
       "      <th>16</th>\n",
       "      <td>Pet</td>\n",
       "      <td>2</td>\n",
       "      <td>0.270270</td>\n",
       "    </tr>\n",
       "    <tr>\n",
       "      <th>17</th>\n",
       "      <td>Weight</td>\n",
       "      <td>1</td>\n",
       "      <td>0.135135</td>\n",
       "    </tr>\n",
       "    <tr>\n",
       "      <th>18</th>\n",
       "      <td>Height</td>\n",
       "      <td>14</td>\n",
       "      <td>1.891892</td>\n",
       "    </tr>\n",
       "    <tr>\n",
       "      <th>19</th>\n",
       "      <td>Body mass index</td>\n",
       "      <td>31</td>\n",
       "      <td>4.189189</td>\n",
       "    </tr>\n",
       "    <tr>\n",
       "      <th>20</th>\n",
       "      <td>Absenteeism time in hours</td>\n",
       "      <td>22</td>\n",
       "      <td>2.972973</td>\n",
       "    </tr>\n",
       "  </tbody>\n",
       "</table>\n",
       "</div>"
      ],
      "text/plain": [
       "                           variable  missing_value  missing_percent\n",
       "0                                ID              0         0.000000\n",
       "1                Reason for absence              3         0.405405\n",
       "2                  Month of absence              4         0.540541\n",
       "3                   Day of the week              0         0.000000\n",
       "4                           Seasons              0         0.000000\n",
       "5            Transportation expense              7         0.945946\n",
       "6   Distance from Residence to Work              3         0.405405\n",
       "7                      Service time              3         0.405405\n",
       "8                               Age              3         0.405405\n",
       "9         Work load Average per day             10         1.351351\n",
       "10                       Hit target              6         0.810811\n",
       "11             Disciplinary failure              6         0.810811\n",
       "12                        Education             10         1.351351\n",
       "13                              Son              6         0.810811\n",
       "14                   Social drinker              3         0.405405\n",
       "15                    Social smoker              4         0.540541\n",
       "16                              Pet              2         0.270270\n",
       "17                           Weight              1         0.135135\n",
       "18                           Height             14         1.891892\n",
       "19                  Body mass index             31         4.189189\n",
       "20        Absenteeism time in hours             22         2.972973"
      ]
     },
     "execution_count": 573,
     "metadata": {},
     "output_type": "execute_result"
    }
   ],
   "source": [
    "missing"
   ]
  },
  {
   "cell_type": "markdown",
   "metadata": {},
   "source": [
    "No variable has mising value greater than 30 percent , so we cant drop any column"
   ]
  },
  {
   "cell_type": "markdown",
   "metadata": {},
   "source": [
    "Using interpolate method to treat missing value"
   ]
  },
  {
   "cell_type": "markdown",
   "metadata": {},
   "source": [
    "we are making a value distance as np.nan and we will check which method works best on it"
   ]
  },
  {
   "cell_type": "code",
   "execution_count": 574,
   "metadata": {
    "scrolled": true
   },
   "outputs": [
    {
     "data": {
      "text/html": [
       "<div>\n",
       "<style scoped>\n",
       "    .dataframe tbody tr th:only-of-type {\n",
       "        vertical-align: middle;\n",
       "    }\n",
       "\n",
       "    .dataframe tbody tr th {\n",
       "        vertical-align: top;\n",
       "    }\n",
       "\n",
       "    .dataframe thead th {\n",
       "        text-align: right;\n",
       "    }\n",
       "</style>\n",
       "<table border=\"1\" class=\"dataframe\">\n",
       "  <thead>\n",
       "    <tr style=\"text-align: right;\">\n",
       "      <th></th>\n",
       "      <th>ID</th>\n",
       "      <th>Reason for absence</th>\n",
       "      <th>Month of absence</th>\n",
       "      <th>Day of the week</th>\n",
       "      <th>Seasons</th>\n",
       "      <th>Transportation expense</th>\n",
       "      <th>Distance from Residence to Work</th>\n",
       "      <th>Service time</th>\n",
       "      <th>Age</th>\n",
       "      <th>Work load Average per day</th>\n",
       "      <th>Hit target</th>\n",
       "      <th>Disciplinary failure</th>\n",
       "      <th>Education</th>\n",
       "      <th>Son</th>\n",
       "      <th>Social drinker</th>\n",
       "      <th>Social smoker</th>\n",
       "      <th>Pet</th>\n",
       "      <th>Weight</th>\n",
       "      <th>Height</th>\n",
       "      <th>Body mass index</th>\n",
       "      <th>Absenteeism time in hours</th>\n",
       "    </tr>\n",
       "  </thead>\n",
       "  <tbody>\n",
       "    <tr>\n",
       "      <th>0</th>\n",
       "      <td>11</td>\n",
       "      <td>26.0</td>\n",
       "      <td>7.0</td>\n",
       "      <td>3</td>\n",
       "      <td>1</td>\n",
       "      <td>289.0</td>\n",
       "      <td>36.0</td>\n",
       "      <td>13.0</td>\n",
       "      <td>33.0</td>\n",
       "      <td>239554.0</td>\n",
       "      <td>97.0</td>\n",
       "      <td>0.0</td>\n",
       "      <td>1.0</td>\n",
       "      <td>2.0</td>\n",
       "      <td>1.0</td>\n",
       "      <td>0.0</td>\n",
       "      <td>1.0</td>\n",
       "      <td>90.0</td>\n",
       "      <td>172.0</td>\n",
       "      <td>30.0</td>\n",
       "      <td>4.0</td>\n",
       "    </tr>\n",
       "    <tr>\n",
       "      <th>1</th>\n",
       "      <td>36</td>\n",
       "      <td>20.0</td>\n",
       "      <td>7.0</td>\n",
       "      <td>3</td>\n",
       "      <td>1</td>\n",
       "      <td>118.0</td>\n",
       "      <td>13.0</td>\n",
       "      <td>18.0</td>\n",
       "      <td>50.0</td>\n",
       "      <td>239554.0</td>\n",
       "      <td>97.0</td>\n",
       "      <td>1.0</td>\n",
       "      <td>1.0</td>\n",
       "      <td>1.0</td>\n",
       "      <td>1.0</td>\n",
       "      <td>0.0</td>\n",
       "      <td>0.0</td>\n",
       "      <td>98.0</td>\n",
       "      <td>178.0</td>\n",
       "      <td>31.0</td>\n",
       "      <td>0.0</td>\n",
       "    </tr>\n",
       "    <tr>\n",
       "      <th>2</th>\n",
       "      <td>3</td>\n",
       "      <td>23.0</td>\n",
       "      <td>7.0</td>\n",
       "      <td>4</td>\n",
       "      <td>1</td>\n",
       "      <td>179.0</td>\n",
       "      <td>51.0</td>\n",
       "      <td>18.0</td>\n",
       "      <td>38.0</td>\n",
       "      <td>239554.0</td>\n",
       "      <td>97.0</td>\n",
       "      <td>0.0</td>\n",
       "      <td>1.0</td>\n",
       "      <td>0.0</td>\n",
       "      <td>1.0</td>\n",
       "      <td>0.0</td>\n",
       "      <td>0.0</td>\n",
       "      <td>89.0</td>\n",
       "      <td>170.0</td>\n",
       "      <td>31.0</td>\n",
       "      <td>2.0</td>\n",
       "    </tr>\n",
       "    <tr>\n",
       "      <th>3</th>\n",
       "      <td>7</td>\n",
       "      <td>7.0</td>\n",
       "      <td>7.0</td>\n",
       "      <td>5</td>\n",
       "      <td>1</td>\n",
       "      <td>279.0</td>\n",
       "      <td>5.0</td>\n",
       "      <td>14.0</td>\n",
       "      <td>39.0</td>\n",
       "      <td>239554.0</td>\n",
       "      <td>97.0</td>\n",
       "      <td>0.0</td>\n",
       "      <td>1.0</td>\n",
       "      <td>2.0</td>\n",
       "      <td>1.0</td>\n",
       "      <td>1.0</td>\n",
       "      <td>0.0</td>\n",
       "      <td>68.0</td>\n",
       "      <td>168.0</td>\n",
       "      <td>24.0</td>\n",
       "      <td>4.0</td>\n",
       "    </tr>\n",
       "    <tr>\n",
       "      <th>4</th>\n",
       "      <td>11</td>\n",
       "      <td>23.0</td>\n",
       "      <td>7.0</td>\n",
       "      <td>5</td>\n",
       "      <td>1</td>\n",
       "      <td>289.0</td>\n",
       "      <td>36.0</td>\n",
       "      <td>13.0</td>\n",
       "      <td>33.0</td>\n",
       "      <td>239554.0</td>\n",
       "      <td>97.0</td>\n",
       "      <td>0.0</td>\n",
       "      <td>1.0</td>\n",
       "      <td>2.0</td>\n",
       "      <td>1.0</td>\n",
       "      <td>0.0</td>\n",
       "      <td>1.0</td>\n",
       "      <td>90.0</td>\n",
       "      <td>172.0</td>\n",
       "      <td>30.0</td>\n",
       "      <td>2.0</td>\n",
       "    </tr>\n",
       "  </tbody>\n",
       "</table>\n",
       "</div>"
      ],
      "text/plain": [
       "   ID  Reason for absence  Month of absence  Day of the week  Seasons  Transportation expense  Distance from Residence to Work  Service time   Age  Work load Average per day  Hit target  \\\n",
       "0  11                26.0               7.0                3        1                   289.0                             36.0          13.0  33.0                   239554.0        97.0   \n",
       "1  36                20.0               7.0                3        1                   118.0                             13.0          18.0  50.0                   239554.0        97.0   \n",
       "2   3                23.0               7.0                4        1                   179.0                             51.0          18.0  38.0                   239554.0        97.0   \n",
       "3   7                 7.0               7.0                5        1                   279.0                              5.0          14.0  39.0                   239554.0        97.0   \n",
       "4  11                23.0               7.0                5        1                   289.0                             36.0          13.0  33.0                   239554.0        97.0   \n",
       "\n",
       "   Disciplinary failure  Education  Son  Social drinker  Social smoker  Pet  Weight  Height  Body mass index  Absenteeism time in hours  \n",
       "0                   0.0        1.0  2.0             1.0            0.0  1.0    90.0   172.0             30.0                        4.0  \n",
       "1                   1.0        1.0  1.0             1.0            0.0  0.0    98.0   178.0             31.0                        0.0  \n",
       "2                   0.0        1.0  0.0             1.0            0.0  0.0    89.0   170.0             31.0                        2.0  \n",
       "3                   0.0        1.0  2.0             1.0            1.0  0.0    68.0   168.0             24.0                        4.0  \n",
       "4                   0.0        1.0  2.0             1.0            0.0  1.0    90.0   172.0             30.0                        2.0  "
      ]
     },
     "execution_count": 574,
     "metadata": {},
     "output_type": "execute_result"
    }
   ],
   "source": [
    "absent.head()"
   ]
  },
  {
   "cell_type": "code",
   "execution_count": null,
   "metadata": {},
   "outputs": [],
   "source": []
  },
  {
   "cell_type": "markdown",
   "metadata": {},
   "source": [
    "179(row 3,Transportation expense)  \n",
    "making a copy of absent dataframe"
   ]
  },
  {
   "cell_type": "code",
   "execution_count": 575,
   "metadata": {},
   "outputs": [],
   "source": [
    "df1= absent.copy()\n",
    "df2= absent.copy()\n",
    "df3= absent.copy()"
   ]
  },
  {
   "cell_type": "code",
   "execution_count": 576,
   "metadata": {},
   "outputs": [],
   "source": [
    "df1.iloc[2,5]=np.nan\n",
    "df2.iloc[2,5]=np.nan\n",
    "df3.iloc[2,5]=np.nan"
   ]
  },
  {
   "cell_type": "code",
   "execution_count": 577,
   "metadata": {},
   "outputs": [
    {
     "data": {
      "text/plain": [
       "nan"
      ]
     },
     "execution_count": 577,
     "metadata": {},
     "output_type": "execute_result"
    }
   ],
   "source": [
    "df1.iloc[2,5]"
   ]
  },
  {
   "cell_type": "code",
   "execution_count": 578,
   "metadata": {},
   "outputs": [
    {
     "data": {
      "text/plain": [
       "221.0928961748634"
      ]
     },
     "execution_count": 578,
     "metadata": {},
     "output_type": "execute_result"
    }
   ],
   "source": [
    "#using mean method \n",
    "df1['Transportation expense'] = df1['Transportation expense'].fillna(df1['Transportation expense'].mean())\n",
    "df1.iloc[2,5]"
   ]
  },
  {
   "cell_type": "code",
   "execution_count": 579,
   "metadata": {},
   "outputs": [
    {
     "data": {
      "text/plain": [
       "225.0"
      ]
     },
     "execution_count": 579,
     "metadata": {},
     "output_type": "execute_result"
    }
   ],
   "source": [
    "#using median method\n",
    "df2['Transportation expense'] = df2['Transportation expense'].fillna(df2['Transportation expense'].median())\n",
    "df2.iloc[2,5]"
   ]
  },
  {
   "cell_type": "code",
   "execution_count": 580,
   "metadata": {},
   "outputs": [
    {
     "data": {
      "text/plain": [
       "118.0"
      ]
     },
     "execution_count": 580,
     "metadata": {},
     "output_type": "execute_result"
    }
   ],
   "source": [
    "#using interpolate\n",
    "df3['Transportation expense'] = df3['Transportation expense'].interpolate(method = 'nearest', limit_direction = 'both')\n",
    "df3.iloc[2,5]"
   ]
  },
  {
   "cell_type": "code",
   "execution_count": 581,
   "metadata": {},
   "outputs": [
    {
     "data": {
      "text/plain": [
       "0.0    695\n",
       "1.0     39\n",
       "Name: Disciplinary failure, dtype: int64"
      ]
     },
     "execution_count": 581,
     "metadata": {},
     "output_type": "execute_result"
    }
   ],
   "source": [
    "df3['Disciplinary failure'].value_counts()"
   ]
  },
  {
   "cell_type": "markdown",
   "metadata": {},
   "source": [
    "as interpolate result  is much closer to our actual result , so we will use interpolate to for missing values because it doesnt make another category in categorical variable(so we are using this) "
   ]
  },
  {
   "cell_type": "code",
   "execution_count": 582,
   "metadata": {},
   "outputs": [],
   "source": [
    "absent = absent.interpolate(method = 'nearest', limit_direction = 'both')"
   ]
  },
  {
   "cell_type": "code",
   "execution_count": 583,
   "metadata": {},
   "outputs": [
    {
     "data": {
      "text/plain": [
       "ID                                 0\n",
       "Reason for absence                 0\n",
       "Month of absence                   3\n",
       "Day of the week                    0\n",
       "Seasons                            0\n",
       "Transportation expense             0\n",
       "Distance from Residence to Work    0\n",
       "Service time                       0\n",
       "Age                                0\n",
       "Work load Average per day          0\n",
       "Hit target                         0\n",
       "Disciplinary failure               0\n",
       "Education                          0\n",
       "Son                                0\n",
       "Social drinker                     0\n",
       "Social smoker                      0\n",
       "Pet                                0\n",
       "Weight                             0\n",
       "Height                             0\n",
       "Body mass index                    0\n",
       "Absenteeism time in hours          0\n",
       "dtype: int64"
      ]
     },
     "execution_count": 583,
     "metadata": {},
     "output_type": "execute_result"
    }
   ],
   "source": [
    "absent.isnull().sum()"
   ]
  },
  {
   "cell_type": "code",
   "execution_count": null,
   "metadata": {},
   "outputs": [],
   "source": []
  },
  {
   "cell_type": "code",
   "execution_count": 584,
   "metadata": {},
   "outputs": [],
   "source": [
    "absent['Month of absence'].mean()\n",
    "\n",
    "absent['Month of absence'].fillna(absent['Month of absence'].mean(), inplace = True)"
   ]
  },
  {
   "cell_type": "code",
   "execution_count": 585,
   "metadata": {},
   "outputs": [
    {
     "data": {
      "text/plain": [
       "ID                                 0\n",
       "Reason for absence                 0\n",
       "Month of absence                   0\n",
       "Day of the week                    0\n",
       "Seasons                            0\n",
       "Transportation expense             0\n",
       "Distance from Residence to Work    0\n",
       "Service time                       0\n",
       "Age                                0\n",
       "Work load Average per day          0\n",
       "Hit target                         0\n",
       "Disciplinary failure               0\n",
       "Education                          0\n",
       "Son                                0\n",
       "Social drinker                     0\n",
       "Social smoker                      0\n",
       "Pet                                0\n",
       "Weight                             0\n",
       "Height                             0\n",
       "Body mass index                    0\n",
       "Absenteeism time in hours          0\n",
       "dtype: int64"
      ]
     },
     "execution_count": 585,
     "metadata": {},
     "output_type": "execute_result"
    }
   ],
   "source": [
    "absent.columns\n",
    "absent.head()\n",
    "absent.isnull().sum()"
   ]
  },
  {
   "cell_type": "markdown",
   "metadata": {},
   "source": [
    "# Outlier analysis"
   ]
  },
  {
   "cell_type": "code",
   "execution_count": 586,
   "metadata": {},
   "outputs": [
    {
     "data": {
      "text/html": [
       "<div>\n",
       "<style scoped>\n",
       "    .dataframe tbody tr th:only-of-type {\n",
       "        vertical-align: middle;\n",
       "    }\n",
       "\n",
       "    .dataframe tbody tr th {\n",
       "        vertical-align: top;\n",
       "    }\n",
       "\n",
       "    .dataframe thead th {\n",
       "        text-align: right;\n",
       "    }\n",
       "</style>\n",
       "<table border=\"1\" class=\"dataframe\">\n",
       "  <thead>\n",
       "    <tr style=\"text-align: right;\">\n",
       "      <th></th>\n",
       "      <th>ID</th>\n",
       "      <th>Reason for absence</th>\n",
       "      <th>Month of absence</th>\n",
       "      <th>Day of the week</th>\n",
       "      <th>Seasons</th>\n",
       "      <th>Transportation expense</th>\n",
       "      <th>Distance from Residence to Work</th>\n",
       "      <th>Service time</th>\n",
       "      <th>Age</th>\n",
       "      <th>Work load Average per day</th>\n",
       "      <th>Hit target</th>\n",
       "      <th>Disciplinary failure</th>\n",
       "      <th>Education</th>\n",
       "      <th>Son</th>\n",
       "      <th>Social drinker</th>\n",
       "      <th>Social smoker</th>\n",
       "      <th>Pet</th>\n",
       "      <th>Weight</th>\n",
       "      <th>Height</th>\n",
       "      <th>Body mass index</th>\n",
       "      <th>Absenteeism time in hours</th>\n",
       "    </tr>\n",
       "  </thead>\n",
       "  <tbody>\n",
       "    <tr>\n",
       "      <th>0</th>\n",
       "      <td>11</td>\n",
       "      <td>26.0</td>\n",
       "      <td>7.0</td>\n",
       "      <td>3</td>\n",
       "      <td>1</td>\n",
       "      <td>289.0</td>\n",
       "      <td>36.0</td>\n",
       "      <td>13.0</td>\n",
       "      <td>33.0</td>\n",
       "      <td>239554.0</td>\n",
       "      <td>97.0</td>\n",
       "      <td>0.0</td>\n",
       "      <td>1.0</td>\n",
       "      <td>2.0</td>\n",
       "      <td>1.0</td>\n",
       "      <td>0.0</td>\n",
       "      <td>1.0</td>\n",
       "      <td>90.0</td>\n",
       "      <td>172.0</td>\n",
       "      <td>30.0</td>\n",
       "      <td>4.0</td>\n",
       "    </tr>\n",
       "    <tr>\n",
       "      <th>1</th>\n",
       "      <td>36</td>\n",
       "      <td>20.0</td>\n",
       "      <td>7.0</td>\n",
       "      <td>3</td>\n",
       "      <td>1</td>\n",
       "      <td>118.0</td>\n",
       "      <td>13.0</td>\n",
       "      <td>18.0</td>\n",
       "      <td>50.0</td>\n",
       "      <td>239554.0</td>\n",
       "      <td>97.0</td>\n",
       "      <td>1.0</td>\n",
       "      <td>1.0</td>\n",
       "      <td>1.0</td>\n",
       "      <td>1.0</td>\n",
       "      <td>0.0</td>\n",
       "      <td>0.0</td>\n",
       "      <td>98.0</td>\n",
       "      <td>178.0</td>\n",
       "      <td>31.0</td>\n",
       "      <td>0.0</td>\n",
       "    </tr>\n",
       "    <tr>\n",
       "      <th>2</th>\n",
       "      <td>3</td>\n",
       "      <td>23.0</td>\n",
       "      <td>7.0</td>\n",
       "      <td>4</td>\n",
       "      <td>1</td>\n",
       "      <td>179.0</td>\n",
       "      <td>51.0</td>\n",
       "      <td>18.0</td>\n",
       "      <td>38.0</td>\n",
       "      <td>239554.0</td>\n",
       "      <td>97.0</td>\n",
       "      <td>0.0</td>\n",
       "      <td>1.0</td>\n",
       "      <td>0.0</td>\n",
       "      <td>1.0</td>\n",
       "      <td>0.0</td>\n",
       "      <td>0.0</td>\n",
       "      <td>89.0</td>\n",
       "      <td>170.0</td>\n",
       "      <td>31.0</td>\n",
       "      <td>2.0</td>\n",
       "    </tr>\n",
       "    <tr>\n",
       "      <th>3</th>\n",
       "      <td>7</td>\n",
       "      <td>7.0</td>\n",
       "      <td>7.0</td>\n",
       "      <td>5</td>\n",
       "      <td>1</td>\n",
       "      <td>279.0</td>\n",
       "      <td>5.0</td>\n",
       "      <td>14.0</td>\n",
       "      <td>39.0</td>\n",
       "      <td>239554.0</td>\n",
       "      <td>97.0</td>\n",
       "      <td>0.0</td>\n",
       "      <td>1.0</td>\n",
       "      <td>2.0</td>\n",
       "      <td>1.0</td>\n",
       "      <td>1.0</td>\n",
       "      <td>0.0</td>\n",
       "      <td>68.0</td>\n",
       "      <td>168.0</td>\n",
       "      <td>24.0</td>\n",
       "      <td>4.0</td>\n",
       "    </tr>\n",
       "    <tr>\n",
       "      <th>4</th>\n",
       "      <td>11</td>\n",
       "      <td>23.0</td>\n",
       "      <td>7.0</td>\n",
       "      <td>5</td>\n",
       "      <td>1</td>\n",
       "      <td>289.0</td>\n",
       "      <td>36.0</td>\n",
       "      <td>13.0</td>\n",
       "      <td>33.0</td>\n",
       "      <td>239554.0</td>\n",
       "      <td>97.0</td>\n",
       "      <td>0.0</td>\n",
       "      <td>1.0</td>\n",
       "      <td>2.0</td>\n",
       "      <td>1.0</td>\n",
       "      <td>0.0</td>\n",
       "      <td>1.0</td>\n",
       "      <td>90.0</td>\n",
       "      <td>172.0</td>\n",
       "      <td>30.0</td>\n",
       "      <td>2.0</td>\n",
       "    </tr>\n",
       "  </tbody>\n",
       "</table>\n",
       "</div>"
      ],
      "text/plain": [
       "   ID  Reason for absence  Month of absence  Day of the week  Seasons  Transportation expense  Distance from Residence to Work  Service time   Age  Work load Average per day  Hit target  \\\n",
       "0  11                26.0               7.0                3        1                   289.0                             36.0          13.0  33.0                   239554.0        97.0   \n",
       "1  36                20.0               7.0                3        1                   118.0                             13.0          18.0  50.0                   239554.0        97.0   \n",
       "2   3                23.0               7.0                4        1                   179.0                             51.0          18.0  38.0                   239554.0        97.0   \n",
       "3   7                 7.0               7.0                5        1                   279.0                              5.0          14.0  39.0                   239554.0        97.0   \n",
       "4  11                23.0               7.0                5        1                   289.0                             36.0          13.0  33.0                   239554.0        97.0   \n",
       "\n",
       "   Disciplinary failure  Education  Son  Social drinker  Social smoker  Pet  Weight  Height  Body mass index  Absenteeism time in hours  \n",
       "0                   0.0        1.0  2.0             1.0            0.0  1.0    90.0   172.0             30.0                        4.0  \n",
       "1                   1.0        1.0  1.0             1.0            0.0  0.0    98.0   178.0             31.0                        0.0  \n",
       "2                   0.0        1.0  0.0             1.0            0.0  0.0    89.0   170.0             31.0                        2.0  \n",
       "3                   0.0        1.0  2.0             1.0            1.0  0.0    68.0   168.0             24.0                        4.0  \n",
       "4                   0.0        1.0  2.0             1.0            0.0  1.0    90.0   172.0             30.0                        2.0  "
      ]
     },
     "execution_count": 586,
     "metadata": {},
     "output_type": "execute_result"
    }
   ],
   "source": [
    "absent.head()"
   ]
  },
  {
   "cell_type": "code",
   "execution_count": 587,
   "metadata": {},
   "outputs": [],
   "source": [
    "# num_colums = 9 \n",
    "num_colnames= ['Transportation expense' ,'Distance from Residence to Work', 'Service time', 'Age' ,'Work load Average per day','Hit target', 'Height','Weight','Body mass index']"
   ]
  },
  {
   "cell_type": "code",
   "execution_count": 588,
   "metadata": {},
   "outputs": [],
   "source": [
    "#cat_columns = 11\n",
    "cat_colnames = ['Reason for absence','Month of absence', 'Day of the week', 'Seasons', 'Disciplinary failure', 'Education', 'Son', 'Social drinker', 'Social smoker', 'Pet']"
   ]
  },
  {
   "cell_type": "code",
   "execution_count": 589,
   "metadata": {},
   "outputs": [],
   "source": [
    "#chnaging data type of cat_colnames to category\n",
    "for i in cat_colnames:\n",
    "    absent[i] = absent[i].astype('category')"
   ]
  },
  {
   "cell_type": "code",
   "execution_count": 590,
   "metadata": {},
   "outputs": [],
   "source": [
    " \n",
    "num_colnames1 = ['Transportation expense' ,'Distance from Residence to Work', 'Service time', 'Age' ,'Work load Average per day','Hit target', 'Height','Weight','Body mass index','Absenteeism time in hours']"
   ]
  },
  {
   "cell_type": "code",
   "execution_count": 591,
   "metadata": {},
   "outputs": [
    {
     "data": {
      "text/plain": [
       "<matplotlib.axes._subplots.AxesSubplot at 0x2a27d204518>"
      ]
     },
     "execution_count": 591,
     "metadata": {},
     "output_type": "execute_result"
    },
    {
     "data": {
      "image/png": "[encoded data removed]",
      "text/plain": [
       "<Figure size 720x360 with 1 Axes>"
      ]
     },
     "metadata": {},
     "output_type": "display_data"
    }
   ],
   "source": [
    "sns.distplot(absent['Transportation expense'])"
   ]
  },
  {
   "cell_type": "code",
   "execution_count": 592,
   "metadata": {},
   "outputs": [
    {
     "data": {
      "text/plain": [
       "<matplotlib.axes._subplots.AxesSubplot at 0x2a27a47b278>"
      ]
     },
     "execution_count": 592,
     "metadata": {},
     "output_type": "execute_result"
    },
    {
     "data": {
      "image/png": "[encoded data removed]",
      "text/plain": [
       "<Figure size 720x360 with 1 Axes>"
      ]
     },
     "metadata": {},
     "output_type": "display_data"
    }
   ],
   "source": [
    "sns.distplot(absent['Distance from Residence to Work'])"
   ]
  },
  {
   "cell_type": "code",
   "execution_count": 593,
   "metadata": {},
   "outputs": [
    {
     "data": {
      "text/plain": [
       "<matplotlib.axes._subplots.AxesSubplot at 0x2a27d315dd8>"
      ]
     },
     "execution_count": 593,
     "metadata": {},
     "output_type": "execute_result"
    },
    {
     "data": {
      "image/png": "[encoded data removed]",
      "text/plain": [
       "<Figure size 720x360 with 1 Axes>"
      ]
     },
     "metadata": {},
     "output_type": "display_data"
    }
   ],
   "source": [
    "sns.distplot(absent['Service time'])"
   ]
  },
  {
   "cell_type": "code",
   "execution_count": 594,
   "metadata": {},
   "outputs": [
    {
     "data": {
      "text/plain": [
       "<matplotlib.axes._subplots.AxesSubplot at 0x2a27d3378d0>"
      ]
     },
     "execution_count": 594,
     "metadata": {},
     "output_type": "execute_result"
    },
    {
     "data": {
      "image/png": "[encoded data removed]",
      "text/plain": [
       "<Figure size 720x360 with 1 Axes>"
      ]
     },
     "metadata": {},
     "output_type": "display_data"
    }
   ],
   "source": [
    "sns.distplot(absent['Age'])"
   ]
  },
  {
   "cell_type": "code",
   "execution_count": 595,
   "metadata": {},
   "outputs": [
    {
     "data": {
      "text/plain": [
       "<matplotlib.axes._subplots.AxesSubplot at 0x2a27d424940>"
      ]
     },
     "execution_count": 595,
     "metadata": {},
     "output_type": "execute_result"
    },
    {
     "data": {
      "image/png": "[encoded data removed]",
      "text/plain": [
       "<Figure size 720x360 with 1 Axes>"
      ]
     },
     "metadata": {},
     "output_type": "display_data"
    }
   ],
   "source": [
    "sns.distplot(absent['Work load Average per day'])"
   ]
  },
  {
   "cell_type": "code",
   "execution_count": 596,
   "metadata": {},
   "outputs": [
    {
     "data": {
      "text/plain": [
       "<matplotlib.axes._subplots.AxesSubplot at 0x2a27d4ad1d0>"
      ]
     },
     "execution_count": 596,
     "metadata": {},
     "output_type": "execute_result"
    },
    {
     "data": {
      "image/png": "[encoded data removed]",
      "text/plain": [
       "<Figure size 720x360 with 1 Axes>"
      ]
     },
     "metadata": {},
     "output_type": "display_data"
    }
   ],
   "source": [
    "sns.distplot(absent['Hit target'])"
   ]
  },
  {
   "cell_type": "code",
   "execution_count": 597,
   "metadata": {},
   "outputs": [
    {
     "data": {
      "text/plain": [
       "<matplotlib.axes._subplots.AxesSubplot at 0x2a27d53d400>"
      ]
     },
     "execution_count": 597,
     "metadata": {},
     "output_type": "execute_result"
    },
    {
     "data": {
      "image/png": "[encoded data removed]",
      "text/plain": [
       "<Figure size 720x360 with 1 Axes>"
      ]
     },
     "metadata": {},
     "output_type": "display_data"
    }
   ],
   "source": [
    "sns.distplot(absent['Height'])"
   ]
  },
  {
   "cell_type": "code",
   "execution_count": 598,
   "metadata": {},
   "outputs": [
    {
     "data": {
      "text/plain": [
       "<matplotlib.axes._subplots.AxesSubplot at 0x2a27e5bfe80>"
      ]
     },
     "execution_count": 598,
     "metadata": {},
     "output_type": "execute_result"
    },
    {
     "data": {
      "image/png": "[encoded data removed]",
      "text/plain": [
       "<Figure size 720x360 with 1 Axes>"
      ]
     },
     "metadata": {},
     "output_type": "display_data"
    }
   ],
   "source": [
    "sns.distplot(absent['Weight'])"
   ]
  },
  {
   "cell_type": "code",
   "execution_count": 599,
   "metadata": {},
   "outputs": [
    {
     "data": {
      "text/plain": [
       "<matplotlib.axes._subplots.AxesSubplot at 0x2a27e6208d0>"
      ]
     },
     "execution_count": 599,
     "metadata": {},
     "output_type": "execute_result"
    },
    {
     "data": {
      "image/png": "[encoded data removed]",
      "text/plain": [
       "<Figure size 720x360 with 1 Axes>"
      ]
     },
     "metadata": {},
     "output_type": "display_data"
    }
   ],
   "source": [
    "sns.distplot(absent['Body mass index'])"
   ]
  },
  {
   "cell_type": "code",
   "execution_count": null,
   "metadata": {},
   "outputs": [],
   "source": []
  },
  {
   "cell_type": "markdown",
   "metadata": {},
   "source": [
    "As we can see every variable from the 9 continious is skwed. So we need to use normalised method to remove outliers.\n",
    "\n",
    "(if it would have been normal , then we should have used the z score method)"
   ]
  },
  {
   "cell_type": "markdown",
   "metadata": {},
   "source": [
    "# checking box plot for each continious variable"
   ]
  },
  {
   "cell_type": "code",
   "execution_count": 600,
   "metadata": {},
   "outputs": [],
   "source": [
    "sns.set(style=\"ticks\")\n",
    "fig_size = plt.rcParams[\"figure.figsize\"]\n",
    "fig_size[0] = 10\n",
    "fig_size[1] = 5\n",
    "plt.rcParams[\"figure.figsize\"] = fig_size"
   ]
  },
  {
   "cell_type": "code",
   "execution_count": 601,
   "metadata": {
    "scrolled": true
   },
   "outputs": [
    {
     "data": {
      "text/plain": [
       "<matplotlib.axes._subplots.AxesSubplot at 0x2a27e6e1668>"
      ]
     },
     "execution_count": 601,
     "metadata": {},
     "output_type": "execute_result"
    },
    {
     "data": {
      "image/png": "[encoded data removed]",
      "text/plain": [
       "<Figure size 720x360 with 1 Axes>"
      ]
     },
     "metadata": {},
     "output_type": "display_data"
    }
   ],
   "source": [
    "absent.boxplot(column=['Transportation expense','Distance from Residence to Work', 'Service time'])\n"
   ]
  },
  {
   "cell_type": "code",
   "execution_count": 602,
   "metadata": {},
   "outputs": [
    {
     "data": {
      "text/plain": [
       "<matplotlib.axes._subplots.AxesSubplot at 0x2a27e76bac8>"
      ]
     },
     "execution_count": 602,
     "metadata": {},
     "output_type": "execute_result"
    },
    {
     "data": {
      "image/png": "[encoded data removed]",
      "text/plain": [
       "<Figure size 720x360 with 1 Axes>"
      ]
     },
     "metadata": {},
     "output_type": "display_data"
    }
   ],
   "source": [
    "absent.boxplot(column=['Age' ,'Work load Average per day','Hit target'])\n"
   ]
  },
  {
   "cell_type": "code",
   "execution_count": 603,
   "metadata": {},
   "outputs": [
    {
     "data": {
      "text/plain": [
       "<matplotlib.axes._subplots.AxesSubplot at 0x2a27e7e3a90>"
      ]
     },
     "execution_count": 603,
     "metadata": {},
     "output_type": "execute_result"
    },
    {
     "data": {
      "image/png": "[encoded data removed]",
      "text/plain": [
       "<Figure size 720x360 with 1 Axes>"
      ]
     },
     "metadata": {},
     "output_type": "display_data"
    }
   ],
   "source": [
    "absent.boxplot(column=['Height','Weight','Body mass index']) "
   ]
  },
  {
   "cell_type": "code",
   "execution_count": 604,
   "metadata": {},
   "outputs": [
    {
     "data": {
      "text/plain": [
       "<matplotlib.axes._subplots.AxesSubplot at 0x2a27e8717b8>"
      ]
     },
     "execution_count": 604,
     "metadata": {},
     "output_type": "execute_result"
    },
    {
     "data": {
      "image/png": "[encoded data removed]",
      "text/plain": [
       "<Figure size 720x360 with 1 Axes>"
      ]
     },
     "metadata": {},
     "output_type": "display_data"
    }
   ],
   "source": [
    "absent.boxplot(column=['Absenteeism time in hours'])"
   ]
  },
  {
   "cell_type": "markdown",
   "metadata": {},
   "source": [
    "As we can see there are many outliers in these continious variables , there we need to reomove the outliers"
   ]
  },
  {
   "cell_type": "code",
   "execution_count": 605,
   "metadata": {},
   "outputs": [],
   "source": [
    "def remove_outlier(df_in, col_name):\n",
    "    q1 = df_in[col_name].quantile(0.25)\n",
    "    q3 = df_in[col_name].quantile(0.75)\n",
    "    iqr = q3-q1 \n",
    "    lowest  = q1-1.5*iqr\n",
    "    highest = q3+1.5*iqr\n",
    "    df_out = df_in.loc[(df_in[col_name] > lowest) & (df_in[col_name] < highest)]\n",
    "    return df_out"
   ]
  },
  {
   "cell_type": "code",
   "execution_count": null,
   "metadata": {},
   "outputs": [],
   "source": []
  },
  {
   "cell_type": "code",
   "execution_count": 606,
   "metadata": {},
   "outputs": [],
   "source": [
    "#for loop to remove outliers\n",
    "for i in num_colnames1:\n",
    "    absent =remove_outlier(absent,i)"
   ]
  },
  {
   "cell_type": "markdown",
   "metadata": {},
   "source": [
    "AGAIN PLOTTING BOX PLOT TO CHECK ANY OUTLIERS"
   ]
  },
  {
   "cell_type": "code",
   "execution_count": 607,
   "metadata": {},
   "outputs": [
    {
     "data": {
      "text/plain": [
       "<matplotlib.axes._subplots.AxesSubplot at 0x2a27e8b5f60>"
      ]
     },
     "execution_count": 607,
     "metadata": {},
     "output_type": "execute_result"
    },
    {
     "data": {
      "image/png": "[encoded data removed]",
      "text/plain": [
       "<Figure size 720x360 with 1 Axes>"
      ]
     },
     "metadata": {},
     "output_type": "display_data"
    }
   ],
   "source": [
    "absent.boxplot(column=['Transportation expense','Distance from Residence to Work', 'Service time'])"
   ]
  },
  {
   "cell_type": "code",
   "execution_count": 608,
   "metadata": {},
   "outputs": [
    {
     "data": {
      "text/plain": [
       "<matplotlib.axes._subplots.AxesSubplot at 0x2a27e95a940>"
      ]
     },
     "execution_count": 608,
     "metadata": {},
     "output_type": "execute_result"
    },
    {
     "data": {
      "image/png": "[encoded data removed]",
      "text/plain": [
       "<Figure size 720x360 with 1 Axes>"
      ]
     },
     "metadata": {},
     "output_type": "display_data"
    }
   ],
   "source": [
    "absent.boxplot(column=['Age' ,'Work load Average per day','Hit target',])"
   ]
  },
  {
   "cell_type": "code",
   "execution_count": 609,
   "metadata": {},
   "outputs": [
    {
     "data": {
      "text/plain": [
       "<matplotlib.axes._subplots.AxesSubplot at 0x2a27e9d2ba8>"
      ]
     },
     "execution_count": 609,
     "metadata": {},
     "output_type": "execute_result"
    },
    {
     "data": {
      "image/png": "[encoded data removed]",
      "text/plain": [
       "<Figure size 720x360 with 1 Axes>"
      ]
     },
     "metadata": {},
     "output_type": "display_data"
    }
   ],
   "source": [
    "absent.boxplot(column=['Weight','Body mass index']) "
   ]
  },
  {
   "cell_type": "code",
   "execution_count": 610,
   "metadata": {
    "scrolled": true
   },
   "outputs": [
    {
     "data": {
      "text/plain": [
       "<matplotlib.axes._subplots.AxesSubplot at 0x2a27ea34128>"
      ]
     },
     "execution_count": 610,
     "metadata": {},
     "output_type": "execute_result"
    },
    {
     "data": {
      "image/png": "[encoded data removed]",
      "text/plain": [
       "<Figure size 720x360 with 1 Axes>"
      ]
     },
     "metadata": {},
     "output_type": "display_data"
    }
   ],
   "source": [
    "absent.boxplot(column=['Absenteeism time in hours'])"
   ]
  },
  {
   "cell_type": "code",
   "execution_count": 611,
   "metadata": {
    "scrolled": true
   },
   "outputs": [
    {
     "data": {
      "text/plain": [
       "['Reason for absence',\n",
       " 'Month of absence',\n",
       " 'Day of the week',\n",
       " 'Seasons',\n",
       " 'Disciplinary failure',\n",
       " 'Education',\n",
       " 'Son',\n",
       " 'Social drinker',\n",
       " 'Social smoker',\n",
       " 'Pet']"
      ]
     },
     "execution_count": 611,
     "metadata": {},
     "output_type": "execute_result"
    }
   ],
   "source": [
    "cat_colnames"
   ]
  },
  {
   "cell_type": "code",
   "execution_count": 612,
   "metadata": {},
   "outputs": [],
   "source": [
    "from scipy.stats import chi2_contingency\n",
    "import numpy as np"
   ]
  },
  {
   "cell_type": "code",
   "execution_count": 613,
   "metadata": {},
   "outputs": [],
   "source": [
    "chi2_score = []\n",
    "p_score = []\n",
    "\n",
    "for j in cat_colnames:\n",
    "    for i in cat_colnames:\n",
    "        if i != j:\n",
    "            chitest_res = chi2_contingency(pd.crosstab(absent[i], absent[j]))\n",
    "            chi2_score.append(chitest_res[0])\n",
    "            p_score.append(chitest_res[1])\n",
    "        \n",
    "        else:\n",
    "            chi2_score.append(0)\n",
    "            p_score.append(0)\n",
    "            \n",
    "# we need to store the p_score into an array and reshape it\n",
    "x= np.array(p_score).reshape((10,10))\n",
    "#lets make it a dataframe with columns and rows names as cat_colnames\n",
    "x = pd.DataFrame(x, index=cat_colnames, columns= cat_colnames)\n",
    "            \n",
    "        \n",
    "        "
   ]
  },
  {
   "cell_type": "code",
   "execution_count": 614,
   "metadata": {
    "scrolled": false
   },
   "outputs": [
    {
     "data": {
      "text/html": [
       "<div>\n",
       "<style scoped>\n",
       "    .dataframe tbody tr th:only-of-type {\n",
       "        vertical-align: middle;\n",
       "    }\n",
       "\n",
       "    .dataframe tbody tr th {\n",
       "        vertical-align: top;\n",
       "    }\n",
       "\n",
       "    .dataframe thead th {\n",
       "        text-align: right;\n",
       "    }\n",
       "</style>\n",
       "<table border=\"1\" class=\"dataframe\">\n",
       "  <thead>\n",
       "    <tr style=\"text-align: right;\">\n",
       "      <th></th>\n",
       "      <th>Reason for absence</th>\n",
       "      <th>Month of absence</th>\n",
       "      <th>Day of the week</th>\n",
       "      <th>Seasons</th>\n",
       "      <th>Disciplinary failure</th>\n",
       "      <th>Education</th>\n",
       "      <th>Son</th>\n",
       "      <th>Social drinker</th>\n",
       "      <th>Social smoker</th>\n",
       "      <th>Pet</th>\n",
       "    </tr>\n",
       "  </thead>\n",
       "  <tbody>\n",
       "    <tr>\n",
       "      <th>Reason for absence</th>\n",
       "      <td>0.000000e+00</td>\n",
       "      <td>1.241752e-15</td>\n",
       "      <td>0.096612</td>\n",
       "      <td>2.846325e-15</td>\n",
       "      <td>4.354055e-80</td>\n",
       "      <td>1.648742e-23</td>\n",
       "      <td>1.009881e-18</td>\n",
       "      <td>2.413486e-07</td>\n",
       "      <td>1.292721e-11</td>\n",
       "      <td>7.802177e-11</td>\n",
       "    </tr>\n",
       "    <tr>\n",
       "      <th>Month of absence</th>\n",
       "      <td>1.241752e-15</td>\n",
       "      <td>0.000000e+00</td>\n",
       "      <td>0.395669</td>\n",
       "      <td>1.092117e-254</td>\n",
       "      <td>5.648100e-03</td>\n",
       "      <td>2.541108e-03</td>\n",
       "      <td>2.791113e-04</td>\n",
       "      <td>6.177169e-04</td>\n",
       "      <td>7.991270e-02</td>\n",
       "      <td>9.785995e-27</td>\n",
       "    </tr>\n",
       "    <tr>\n",
       "      <th>Day of the week</th>\n",
       "      <td>9.661167e-02</td>\n",
       "      <td>3.956689e-01</td>\n",
       "      <td>0.000000</td>\n",
       "      <td>1.536856e-01</td>\n",
       "      <td>8.721748e-01</td>\n",
       "      <td>7.248537e-01</td>\n",
       "      <td>1.391017e-04</td>\n",
       "      <td>4.874375e-01</td>\n",
       "      <td>7.042249e-01</td>\n",
       "      <td>4.184699e-01</td>\n",
       "    </tr>\n",
       "    <tr>\n",
       "      <th>Seasons</th>\n",
       "      <td>2.846325e-15</td>\n",
       "      <td>1.092117e-254</td>\n",
       "      <td>0.153686</td>\n",
       "      <td>0.000000e+00</td>\n",
       "      <td>9.051402e-04</td>\n",
       "      <td>6.056720e-02</td>\n",
       "      <td>1.353561e-04</td>\n",
       "      <td>7.110981e-03</td>\n",
       "      <td>4.014934e-02</td>\n",
       "      <td>2.092395e-03</td>\n",
       "    </tr>\n",
       "    <tr>\n",
       "      <th>Disciplinary failure</th>\n",
       "      <td>4.354055e-80</td>\n",
       "      <td>5.648100e-03</td>\n",
       "      <td>0.872175</td>\n",
       "      <td>9.051402e-04</td>\n",
       "      <td>0.000000e+00</td>\n",
       "      <td>4.085935e-01</td>\n",
       "      <td>1.607179e-02</td>\n",
       "      <td>2.456006e-01</td>\n",
       "      <td>8.156237e-01</td>\n",
       "      <td>5.383857e-01</td>\n",
       "    </tr>\n",
       "    <tr>\n",
       "      <th>Education</th>\n",
       "      <td>1.648742e-23</td>\n",
       "      <td>2.541108e-03</td>\n",
       "      <td>0.724854</td>\n",
       "      <td>6.056720e-02</td>\n",
       "      <td>4.085935e-01</td>\n",
       "      <td>0.000000e+00</td>\n",
       "      <td>2.716903e-20</td>\n",
       "      <td>3.668963e-24</td>\n",
       "      <td>1.261443e-61</td>\n",
       "      <td>4.862738e-05</td>\n",
       "    </tr>\n",
       "    <tr>\n",
       "      <th>Son</th>\n",
       "      <td>1.009881e-18</td>\n",
       "      <td>2.791113e-04</td>\n",
       "      <td>0.000139</td>\n",
       "      <td>1.353561e-04</td>\n",
       "      <td>1.607179e-02</td>\n",
       "      <td>2.716903e-20</td>\n",
       "      <td>0.000000e+00</td>\n",
       "      <td>1.451098e-11</td>\n",
       "      <td>1.221988e-32</td>\n",
       "      <td>3.808292e-88</td>\n",
       "    </tr>\n",
       "    <tr>\n",
       "      <th>Social drinker</th>\n",
       "      <td>2.413486e-07</td>\n",
       "      <td>6.177169e-04</td>\n",
       "      <td>0.487438</td>\n",
       "      <td>7.110981e-03</td>\n",
       "      <td>2.456006e-01</td>\n",
       "      <td>3.668963e-24</td>\n",
       "      <td>1.451098e-11</td>\n",
       "      <td>0.000000e+00</td>\n",
       "      <td>5.320388e-03</td>\n",
       "      <td>4.201192e-22</td>\n",
       "    </tr>\n",
       "    <tr>\n",
       "      <th>Social smoker</th>\n",
       "      <td>1.292721e-11</td>\n",
       "      <td>7.991270e-02</td>\n",
       "      <td>0.704225</td>\n",
       "      <td>4.014934e-02</td>\n",
       "      <td>8.156237e-01</td>\n",
       "      <td>1.261443e-61</td>\n",
       "      <td>1.221988e-32</td>\n",
       "      <td>5.320388e-03</td>\n",
       "      <td>0.000000e+00</td>\n",
       "      <td>4.991711e-04</td>\n",
       "    </tr>\n",
       "    <tr>\n",
       "      <th>Pet</th>\n",
       "      <td>7.802177e-11</td>\n",
       "      <td>9.785995e-27</td>\n",
       "      <td>0.418470</td>\n",
       "      <td>2.092395e-03</td>\n",
       "      <td>5.383857e-01</td>\n",
       "      <td>4.862738e-05</td>\n",
       "      <td>3.808292e-88</td>\n",
       "      <td>4.201192e-22</td>\n",
       "      <td>4.991711e-04</td>\n",
       "      <td>0.000000e+00</td>\n",
       "    </tr>\n",
       "  </tbody>\n",
       "</table>\n",
       "</div>"
      ],
      "text/plain": [
       "                      Reason for absence  Month of absence  Day of the week        Seasons  Disciplinary failure     Education           Son  Social drinker  Social smoker           Pet\n",
       "Reason for absence          0.000000e+00      1.241752e-15         0.096612   2.846325e-15          4.354055e-80  1.648742e-23  1.009881e-18    2.413486e-07   1.292721e-11  7.802177e-11\n",
       "Month of absence            1.241752e-15      0.000000e+00         0.395669  1.092117e-254          5.648100e-03  2.541108e-03  2.791113e-04    6.177169e-04   7.991270e-02  9.785995e-27\n",
       "Day of the week             9.661167e-02      3.956689e-01         0.000000   1.536856e-01          8.721748e-01  7.248537e-01  1.391017e-04    4.874375e-01   7.042249e-01  4.184699e-01\n",
       "Seasons                     2.846325e-15     1.092117e-254         0.153686   0.000000e+00          9.051402e-04  6.056720e-02  1.353561e-04    7.110981e-03   4.014934e-02  2.092395e-03\n",
       "Disciplinary failure        4.354055e-80      5.648100e-03         0.872175   9.051402e-04          0.000000e+00  4.085935e-01  1.607179e-02    2.456006e-01   8.156237e-01  5.383857e-01\n",
       "Education                   1.648742e-23      2.541108e-03         0.724854   6.056720e-02          4.085935e-01  0.000000e+00  2.716903e-20    3.668963e-24   1.261443e-61  4.862738e-05\n",
       "Son                         1.009881e-18      2.791113e-04         0.000139   1.353561e-04          1.607179e-02  2.716903e-20  0.000000e+00    1.451098e-11   1.221988e-32  3.808292e-88\n",
       "Social drinker              2.413486e-07      6.177169e-04         0.487438   7.110981e-03          2.456006e-01  3.668963e-24  1.451098e-11    0.000000e+00   5.320388e-03  4.201192e-22\n",
       "Social smoker               1.292721e-11      7.991270e-02         0.704225   4.014934e-02          8.156237e-01  1.261443e-61  1.221988e-32    5.320388e-03   0.000000e+00  4.991711e-04\n",
       "Pet                         7.802177e-11      9.785995e-27         0.418470   2.092395e-03          5.383857e-01  4.862738e-05  3.808292e-88    4.201192e-22   4.991711e-04  0.000000e+00"
      ]
     },
     "execution_count": 614,
     "metadata": {},
     "output_type": "execute_result"
    }
   ],
   "source": [
    "x"
   ]
  },
  {
   "cell_type": "markdown",
   "metadata": {},
   "source": [
    "as there is not even a single zero excepts dialgonal element , therefore our null hypothesis is true (they are independent)"
   ]
  },
  {
   "cell_type": "code",
   "execution_count": 615,
   "metadata": {},
   "outputs": [
    {
     "data": {
      "text/plain": [
       "Index(['Reason for absence', 'Month of absence', 'Day of the week', 'Seasons', 'Disciplinary failure', 'Education', 'Son', 'Social drinker', 'Social smoker', 'Pet'], dtype='object')"
      ]
     },
     "execution_count": 615,
     "metadata": {},
     "output_type": "execute_result"
    }
   ],
   "source": [
    "x.columns"
   ]
  },
  {
   "cell_type": "markdown",
   "metadata": {},
   "source": [
    "# correaltion in continous variables"
   ]
  },
  {
   "cell_type": "code",
   "execution_count": 616,
   "metadata": {},
   "outputs": [
    {
     "data": {
      "text/html": [
       "<style  type=\"text/css\" >\n",
       "    #T_bdc26382_7991_11e9_8f75_9840bb1188e2row0_col0 {\n",
       "            background-color:  #fff7fb;\n",
       "            color:  #000000;\n",
       "        }    #T_bdc26382_7991_11e9_8f75_9840bb1188e2row0_col1 {\n",
       "            background-color:  #017267;\n",
       "            color:  #f1f1f1;\n",
       "        }    #T_bdc26382_7991_11e9_8f75_9840bb1188e2row0_col2 {\n",
       "            background-color:  #68a9cf;\n",
       "            color:  #000000;\n",
       "        }    #T_bdc26382_7991_11e9_8f75_9840bb1188e2row0_col3 {\n",
       "            background-color:  #74add1;\n",
       "            color:  #000000;\n",
       "        }    #T_bdc26382_7991_11e9_8f75_9840bb1188e2row0_col4 {\n",
       "            background-color:  #016c59;\n",
       "            color:  #f1f1f1;\n",
       "        }    #T_bdc26382_7991_11e9_8f75_9840bb1188e2row0_col5 {\n",
       "            background-color:  #01746c;\n",
       "            color:  #f1f1f1;\n",
       "        }    #T_bdc26382_7991_11e9_8f75_9840bb1188e2row0_col6 {\n",
       "            background-color:  #015140;\n",
       "            color:  #f1f1f1;\n",
       "        }    #T_bdc26382_7991_11e9_8f75_9840bb1188e2row0_col7 {\n",
       "            background-color:  #58a2cb;\n",
       "            color:  #000000;\n",
       "        }    #T_bdc26382_7991_11e9_8f75_9840bb1188e2row0_col8 {\n",
       "            background-color:  #016350;\n",
       "            color:  #f1f1f1;\n",
       "        }    #T_bdc26382_7991_11e9_8f75_9840bb1188e2row0_col9 {\n",
       "            background-color:  #4f9dc8;\n",
       "            color:  #000000;\n",
       "        }    #T_bdc26382_7991_11e9_8f75_9840bb1188e2row0_col10 {\n",
       "            background-color:  #016956;\n",
       "            color:  #f1f1f1;\n",
       "        }    #T_bdc26382_7991_11e9_8f75_9840bb1188e2row1_col0 {\n",
       "            background-color:  #016d5c;\n",
       "            color:  #f1f1f1;\n",
       "        }    #T_bdc26382_7991_11e9_8f75_9840bb1188e2row1_col1 {\n",
       "            background-color:  #fff7fb;\n",
       "            color:  #000000;\n",
       "        }    #T_bdc26382_7991_11e9_8f75_9840bb1188e2row1_col2 {\n",
       "            background-color:  #027e83;\n",
       "            color:  #f1f1f1;\n",
       "        }    #T_bdc26382_7991_11e9_8f75_9840bb1188e2row1_col3 {\n",
       "            background-color:  #027f84;\n",
       "            color:  #f1f1f1;\n",
       "        }    #T_bdc26382_7991_11e9_8f75_9840bb1188e2row1_col4 {\n",
       "            background-color:  #016755;\n",
       "            color:  #f1f1f1;\n",
       "        }    #T_bdc26382_7991_11e9_8f75_9840bb1188e2row1_col5 {\n",
       "            background-color:  #014636;\n",
       "            color:  #f1f1f1;\n",
       "        }    #T_bdc26382_7991_11e9_8f75_9840bb1188e2row1_col6 {\n",
       "            background-color:  #01614f;\n",
       "            color:  #f1f1f1;\n",
       "        }    #T_bdc26382_7991_11e9_8f75_9840bb1188e2row1_col7 {\n",
       "            background-color:  #015745;\n",
       "            color:  #f1f1f1;\n",
       "        }    #T_bdc26382_7991_11e9_8f75_9840bb1188e2row1_col8 {\n",
       "            background-color:  #015948;\n",
       "            color:  #f1f1f1;\n",
       "        }    #T_bdc26382_7991_11e9_8f75_9840bb1188e2row1_col9 {\n",
       "            background-color:  #015a49;\n",
       "            color:  #f1f1f1;\n",
       "        }    #T_bdc26382_7991_11e9_8f75_9840bb1188e2row1_col10 {\n",
       "            background-color:  #01756f;\n",
       "            color:  #f1f1f1;\n",
       "        }    #T_bdc26382_7991_11e9_8f75_9840bb1188e2row2_col0 {\n",
       "            background-color:  #60a5cd;\n",
       "            color:  #000000;\n",
       "        }    #T_bdc26382_7991_11e9_8f75_9840bb1188e2row2_col1 {\n",
       "            background-color:  #027d81;\n",
       "            color:  #f1f1f1;\n",
       "        }    #T_bdc26382_7991_11e9_8f75_9840bb1188e2row2_col2 {\n",
       "            background-color:  #fff7fb;\n",
       "            color:  #000000;\n",
       "        }    #T_bdc26382_7991_11e9_8f75_9840bb1188e2row2_col3 {\n",
       "            background-color:  #027b7b;\n",
       "            color:  #f1f1f1;\n",
       "        }    #T_bdc26382_7991_11e9_8f75_9840bb1188e2row2_col4 {\n",
       "            background-color:  #014a39;\n",
       "            color:  #f1f1f1;\n",
       "        }    #T_bdc26382_7991_11e9_8f75_9840bb1188e2row2_col5 {\n",
       "            background-color:  #016e5e;\n",
       "            color:  #f1f1f1;\n",
       "        }    #T_bdc26382_7991_11e9_8f75_9840bb1188e2row2_col6 {\n",
       "            background-color:  #01614f;\n",
       "            color:  #f1f1f1;\n",
       "        }    #T_bdc26382_7991_11e9_8f75_9840bb1188e2row2_col7 {\n",
       "            background-color:  #01614f;\n",
       "            color:  #f1f1f1;\n",
       "        }    #T_bdc26382_7991_11e9_8f75_9840bb1188e2row2_col8 {\n",
       "            background-color:  #016451;\n",
       "            color:  #f1f1f1;\n",
       "        }    #T_bdc26382_7991_11e9_8f75_9840bb1188e2row2_col9 {\n",
       "            background-color:  #016e5e;\n",
       "            color:  #f1f1f1;\n",
       "        }    #T_bdc26382_7991_11e9_8f75_9840bb1188e2row2_col10 {\n",
       "            background-color:  #014636;\n",
       "            color:  #f1f1f1;\n",
       "        }    #T_bdc26382_7991_11e9_8f75_9840bb1188e2row3_col0 {\n",
       "            background-color:  #74add1;\n",
       "            color:  #000000;\n",
       "        }    #T_bdc26382_7991_11e9_8f75_9840bb1188e2row3_col1 {\n",
       "            background-color:  #078390;\n",
       "            color:  #f1f1f1;\n",
       "        }    #T_bdc26382_7991_11e9_8f75_9840bb1188e2row3_col2 {\n",
       "            background-color:  #028087;\n",
       "            color:  #f1f1f1;\n",
       "        }    #T_bdc26382_7991_11e9_8f75_9840bb1188e2row3_col3 {\n",
       "            background-color:  #fff7fb;\n",
       "            color:  #000000;\n",
       "        }    #T_bdc26382_7991_11e9_8f75_9840bb1188e2row3_col4 {\n",
       "            background-color:  #afc1dd;\n",
       "            color:  #000000;\n",
       "        }    #T_bdc26382_7991_11e9_8f75_9840bb1188e2row3_col5 {\n",
       "            background-color:  #016a57;\n",
       "            color:  #f1f1f1;\n",
       "        }    #T_bdc26382_7991_11e9_8f75_9840bb1188e2row3_col6 {\n",
       "            background-color:  #016755;\n",
       "            color:  #f1f1f1;\n",
       "        }    #T_bdc26382_7991_11e9_8f75_9840bb1188e2row3_col7 {\n",
       "            background-color:  #499ac6;\n",
       "            color:  #000000;\n",
       "        }    #T_bdc26382_7991_11e9_8f75_9840bb1188e2row3_col8 {\n",
       "            background-color:  #015e4c;\n",
       "            color:  #f1f1f1;\n",
       "        }    #T_bdc26382_7991_11e9_8f75_9840bb1188e2row3_col9 {\n",
       "            background-color:  #549fc9;\n",
       "            color:  #000000;\n",
       "        }    #T_bdc26382_7991_11e9_8f75_9840bb1188e2row3_col10 {\n",
       "            background-color:  #015241;\n",
       "            color:  #f1f1f1;\n",
       "        }    #T_bdc26382_7991_11e9_8f75_9840bb1188e2row4_col0 {\n",
       "            background-color:  #016755;\n",
       "            color:  #f1f1f1;\n",
       "        }    #T_bdc26382_7991_11e9_8f75_9840bb1188e2row4_col1 {\n",
       "            background-color:  #016b58;\n",
       "            color:  #f1f1f1;\n",
       "        }    #T_bdc26382_7991_11e9_8f75_9840bb1188e2row4_col2 {\n",
       "            background-color:  #01503f;\n",
       "            color:  #f1f1f1;\n",
       "        }    #T_bdc26382_7991_11e9_8f75_9840bb1188e2row4_col3 {\n",
       "            background-color:  #acc0dd;\n",
       "            color:  #000000;\n",
       "        }    #T_bdc26382_7991_11e9_8f75_9840bb1188e2row4_col4 {\n",
       "            background-color:  #fff7fb;\n",
       "            color:  #000000;\n",
       "        }    #T_bdc26382_7991_11e9_8f75_9840bb1188e2row4_col5 {\n",
       "            background-color:  #01614f;\n",
       "            color:  #f1f1f1;\n",
       "        }    #T_bdc26382_7991_11e9_8f75_9840bb1188e2row4_col6 {\n",
       "            background-color:  #014c3b;\n",
       "            color:  #f1f1f1;\n",
       "        }    #T_bdc26382_7991_11e9_8f75_9840bb1188e2row4_col7 {\n",
       "            background-color:  #519ec8;\n",
       "            color:  #000000;\n",
       "        }    #T_bdc26382_7991_11e9_8f75_9840bb1188e2row4_col8 {\n",
       "            background-color:  #01756d;\n",
       "            color:  #f1f1f1;\n",
       "        }    #T_bdc26382_7991_11e9_8f75_9840bb1188e2row4_col9 {\n",
       "            background-color:  #62a6cd;\n",
       "            color:  #000000;\n",
       "        }    #T_bdc26382_7991_11e9_8f75_9840bb1188e2row4_col10 {\n",
       "            background-color:  #014c3b;\n",
       "            color:  #f1f1f1;\n",
       "        }    #T_bdc26382_7991_11e9_8f75_9840bb1188e2row5_col0 {\n",
       "            background-color:  #016f61;\n",
       "            color:  #f1f1f1;\n",
       "        }    #T_bdc26382_7991_11e9_8f75_9840bb1188e2row5_col1 {\n",
       "            background-color:  #014636;\n",
       "            color:  #f1f1f1;\n",
       "        }    #T_bdc26382_7991_11e9_8f75_9840bb1188e2row5_col2 {\n",
       "            background-color:  #016e5e;\n",
       "            color:  #f1f1f1;\n",
       "        }    #T_bdc26382_7991_11e9_8f75_9840bb1188e2row5_col3 {\n",
       "            background-color:  #015f4d;\n",
       "            color:  #f1f1f1;\n",
       "        }    #T_bdc26382_7991_11e9_8f75_9840bb1188e2row5_col4 {\n",
       "            background-color:  #015d4b;\n",
       "            color:  #f1f1f1;\n",
       "        }    #T_bdc26382_7991_11e9_8f75_9840bb1188e2row5_col5 {\n",
       "            background-color:  #fff7fb;\n",
       "            color:  #000000;\n",
       "        }    #T_bdc26382_7991_11e9_8f75_9840bb1188e2row5_col6 {\n",
       "            background-color:  #014e3e;\n",
       "            color:  #f1f1f1;\n",
       "        }    #T_bdc26382_7991_11e9_8f75_9840bb1188e2row5_col7 {\n",
       "            background-color:  #016d5b;\n",
       "            color:  #f1f1f1;\n",
       "        }    #T_bdc26382_7991_11e9_8f75_9840bb1188e2row5_col8 {\n",
       "            background-color:  #015241;\n",
       "            color:  #f1f1f1;\n",
       "        }    #T_bdc26382_7991_11e9_8f75_9840bb1188e2row5_col9 {\n",
       "            background-color:  #016c59;\n",
       "            color:  #f1f1f1;\n",
       "        }    #T_bdc26382_7991_11e9_8f75_9840bb1188e2row5_col10 {\n",
       "            background-color:  #015342;\n",
       "            color:  #f1f1f1;\n",
       "        }    #T_bdc26382_7991_11e9_8f75_9840bb1188e2row6_col0 {\n",
       "            background-color:  #014636;\n",
       "            color:  #f1f1f1;\n",
       "        }    #T_bdc26382_7991_11e9_8f75_9840bb1188e2row6_col1 {\n",
       "            background-color:  #01604e;\n",
       "            color:  #f1f1f1;\n",
       "        }    #T_bdc26382_7991_11e9_8f75_9840bb1188e2row6_col2 {\n",
       "            background-color:  #01604e;\n",
       "            color:  #f1f1f1;\n",
       "        }    #T_bdc26382_7991_11e9_8f75_9840bb1188e2row6_col3 {\n",
       "            background-color:  #015b4a;\n",
       "            color:  #f1f1f1;\n",
       "        }    #T_bdc26382_7991_11e9_8f75_9840bb1188e2row6_col4 {\n",
       "            background-color:  #014636;\n",
       "            color:  #f1f1f1;\n",
       "        }    #T_bdc26382_7991_11e9_8f75_9840bb1188e2row6_col5 {\n",
       "            background-color:  #014d3d;\n",
       "            color:  #f1f1f1;\n",
       "        }    #T_bdc26382_7991_11e9_8f75_9840bb1188e2row6_col6 {\n",
       "            background-color:  #fff7fb;\n",
       "            color:  #000000;\n",
       "        }    #T_bdc26382_7991_11e9_8f75_9840bb1188e2row6_col7 {\n",
       "            background-color:  #014b3a;\n",
       "            color:  #f1f1f1;\n",
       "        }    #T_bdc26382_7991_11e9_8f75_9840bb1188e2row6_col8 {\n",
       "            background-color:  #014636;\n",
       "            color:  #f1f1f1;\n",
       "        }    #T_bdc26382_7991_11e9_8f75_9840bb1188e2row6_col9 {\n",
       "            background-color:  #01503f;\n",
       "            color:  #f1f1f1;\n",
       "        }    #T_bdc26382_7991_11e9_8f75_9840bb1188e2row6_col10 {\n",
       "            background-color:  #014838;\n",
       "            color:  #f1f1f1;\n",
       "        }    #T_bdc26382_7991_11e9_8f75_9840bb1188e2row7_col0 {\n",
       "            background-color:  #55a0ca;\n",
       "            color:  #000000;\n",
       "        }    #T_bdc26382_7991_11e9_8f75_9840bb1188e2row7_col1 {\n",
       "            background-color:  #015d4b;\n",
       "            color:  #f1f1f1;\n",
       "        }    #T_bdc26382_7991_11e9_8f75_9840bb1188e2row7_col2 {\n",
       "            background-color:  #016755;\n",
       "            color:  #f1f1f1;\n",
       "        }    #T_bdc26382_7991_11e9_8f75_9840bb1188e2row7_col3 {\n",
       "            background-color:  #4497c4;\n",
       "            color:  #000000;\n",
       "        }    #T_bdc26382_7991_11e9_8f75_9840bb1188e2row7_col4 {\n",
       "            background-color:  #529ec9;\n",
       "            color:  #000000;\n",
       "        }    #T_bdc26382_7991_11e9_8f75_9840bb1188e2row7_col5 {\n",
       "            background-color:  #016f61;\n",
       "            color:  #f1f1f1;\n",
       "        }    #T_bdc26382_7991_11e9_8f75_9840bb1188e2row7_col6 {\n",
       "            background-color:  #015241;\n",
       "            color:  #f1f1f1;\n",
       "        }    #T_bdc26382_7991_11e9_8f75_9840bb1188e2row7_col7 {\n",
       "            background-color:  #fff7fb;\n",
       "            color:  #000000;\n",
       "        }    #T_bdc26382_7991_11e9_8f75_9840bb1188e2row7_col8 {\n",
       "            background-color:  #014e3e;\n",
       "            color:  #f1f1f1;\n",
       "        }    #T_bdc26382_7991_11e9_8f75_9840bb1188e2row7_col9 {\n",
       "            background-color:  #f7eef6;\n",
       "            color:  #000000;\n",
       "        }    #T_bdc26382_7991_11e9_8f75_9840bb1188e2row7_col10 {\n",
       "            background-color:  #014c3b;\n",
       "            color:  #f1f1f1;\n",
       "        }    #T_bdc26382_7991_11e9_8f75_9840bb1188e2row8_col0 {\n",
       "            background-color:  #015846;\n",
       "            color:  #f1f1f1;\n",
       "        }    #T_bdc26382_7991_11e9_8f75_9840bb1188e2row8_col1 {\n",
       "            background-color:  #015846;\n",
       "            color:  #f1f1f1;\n",
       "        }    #T_bdc26382_7991_11e9_8f75_9840bb1188e2row8_col2 {\n",
       "            background-color:  #016350;\n",
       "            color:  #f1f1f1;\n",
       "        }    #T_bdc26382_7991_11e9_8f75_9840bb1188e2row8_col3 {\n",
       "            background-color:  #015241;\n",
       "            color:  #f1f1f1;\n",
       "        }    #T_bdc26382_7991_11e9_8f75_9840bb1188e2row8_col4 {\n",
       "            background-color:  #017165;\n",
       "            color:  #f1f1f1;\n",
       "        }    #T_bdc26382_7991_11e9_8f75_9840bb1188e2row8_col5 {\n",
       "            background-color:  #015140;\n",
       "            color:  #f1f1f1;\n",
       "        }    #T_bdc26382_7991_11e9_8f75_9840bb1188e2row8_col6 {\n",
       "            background-color:  #014636;\n",
       "            color:  #f1f1f1;\n",
       "        }    #T_bdc26382_7991_11e9_8f75_9840bb1188e2row8_col7 {\n",
       "            background-color:  #014737;\n",
       "            color:  #f1f1f1;\n",
       "        }    #T_bdc26382_7991_11e9_8f75_9840bb1188e2row8_col8 {\n",
       "            background-color:  #fff7fb;\n",
       "            color:  #000000;\n",
       "        }    #T_bdc26382_7991_11e9_8f75_9840bb1188e2row8_col9 {\n",
       "            background-color:  #016f61;\n",
       "            color:  #f1f1f1;\n",
       "        }    #T_bdc26382_7991_11e9_8f75_9840bb1188e2row8_col10 {\n",
       "            background-color:  #014c3b;\n",
       "            color:  #f1f1f1;\n",
       "        }    #T_bdc26382_7991_11e9_8f75_9840bb1188e2row9_col0 {\n",
       "            background-color:  #4799c5;\n",
       "            color:  #000000;\n",
       "        }    #T_bdc26382_7991_11e9_8f75_9840bb1188e2row9_col1 {\n",
       "            background-color:  #015a49;\n",
       "            color:  #f1f1f1;\n",
       "        }    #T_bdc26382_7991_11e9_8f75_9840bb1188e2row9_col2 {\n",
       "            background-color:  #016f5f;\n",
       "            color:  #f1f1f1;\n",
       "        }    #T_bdc26382_7991_11e9_8f75_9840bb1188e2row9_col3 {\n",
       "            background-color:  #4b9ac6;\n",
       "            color:  #000000;\n",
       "        }    #T_bdc26382_7991_11e9_8f75_9840bb1188e2row9_col4 {\n",
       "            background-color:  #5fa5cc;\n",
       "            color:  #000000;\n",
       "        }    #T_bdc26382_7991_11e9_8f75_9840bb1188e2row9_col5 {\n",
       "            background-color:  #016c59;\n",
       "            color:  #f1f1f1;\n",
       "        }    #T_bdc26382_7991_11e9_8f75_9840bb1188e2row9_col6 {\n",
       "            background-color:  #015140;\n",
       "            color:  #f1f1f1;\n",
       "        }    #T_bdc26382_7991_11e9_8f75_9840bb1188e2row9_col7 {\n",
       "            background-color:  #f7eef6;\n",
       "            color:  #000000;\n",
       "        }    #T_bdc26382_7991_11e9_8f75_9840bb1188e2row9_col8 {\n",
       "            background-color:  #017062;\n",
       "            color:  #f1f1f1;\n",
       "        }    #T_bdc26382_7991_11e9_8f75_9840bb1188e2row9_col9 {\n",
       "            background-color:  #fff7fb;\n",
       "            color:  #000000;\n",
       "        }    #T_bdc26382_7991_11e9_8f75_9840bb1188e2row9_col10 {\n",
       "            background-color:  #014636;\n",
       "            color:  #f1f1f1;\n",
       "        }    #T_bdc26382_7991_11e9_8f75_9840bb1188e2row10_col0 {\n",
       "            background-color:  #015f4d;\n",
       "            color:  #f1f1f1;\n",
       "        }    #T_bdc26382_7991_11e9_8f75_9840bb1188e2row10_col1 {\n",
       "            background-color:  #01756f;\n",
       "            color:  #f1f1f1;\n",
       "        }    #T_bdc26382_7991_11e9_8f75_9840bb1188e2row10_col2 {\n",
       "            background-color:  #014636;\n",
       "            color:  #f1f1f1;\n",
       "        }    #T_bdc26382_7991_11e9_8f75_9840bb1188e2row10_col3 {\n",
       "            background-color:  #014636;\n",
       "            color:  #f1f1f1;\n",
       "        }    #T_bdc26382_7991_11e9_8f75_9840bb1188e2row10_col4 {\n",
       "            background-color:  #014636;\n",
       "            color:  #f1f1f1;\n",
       "        }    #T_bdc26382_7991_11e9_8f75_9840bb1188e2row10_col5 {\n",
       "            background-color:  #015241;\n",
       "            color:  #f1f1f1;\n",
       "        }    #T_bdc26382_7991_11e9_8f75_9840bb1188e2row10_col6 {\n",
       "            background-color:  #014838;\n",
       "            color:  #f1f1f1;\n",
       "        }    #T_bdc26382_7991_11e9_8f75_9840bb1188e2row10_col7 {\n",
       "            background-color:  #014636;\n",
       "            color:  #f1f1f1;\n",
       "        }    #T_bdc26382_7991_11e9_8f75_9840bb1188e2row10_col8 {\n",
       "            background-color:  #014d3d;\n",
       "            color:  #f1f1f1;\n",
       "        }    #T_bdc26382_7991_11e9_8f75_9840bb1188e2row10_col9 {\n",
       "            background-color:  #014636;\n",
       "            color:  #f1f1f1;\n",
       "        }    #T_bdc26382_7991_11e9_8f75_9840bb1188e2row10_col10 {\n",
       "            background-color:  #fff7fb;\n",
       "            color:  #000000;\n",
       "        }</style><table id=\"T_bdc26382_7991_11e9_8f75_9840bb1188e2\" ><thead>    <tr>        <th class=\"blank level0\" ></th>        <th class=\"col_heading level0 col0\" >ID</th>        <th class=\"col_heading level0 col1\" >Transportation expense</th>        <th class=\"col_heading level0 col2\" >Distance from Residence to Work</th>        <th class=\"col_heading level0 col3\" >Service time</th>        <th class=\"col_heading level0 col4\" >Age</th>        <th class=\"col_heading level0 col5\" >Work load Average per day</th>        <th class=\"col_heading level0 col6\" >Hit target</th>        <th class=\"col_heading level0 col7\" >Weight</th>        <th class=\"col_heading level0 col8\" >Height</th>        <th class=\"col_heading level0 col9\" >Body mass index</th>        <th class=\"col_heading level0 col10\" >Absenteeism time in hours</th>    </tr></thead><tbody>\n",
       "                <tr>\n",
       "                        <th id=\"T_bdc26382_7991_11e9_8f75_9840bb1188e2level0_row0\" class=\"row_heading level0 row0\" >ID</th>\n",
       "                        <td id=\"T_bdc26382_7991_11e9_8f75_9840bb1188e2row0_col0\" class=\"data row0 col0\" >1</td>\n",
       "                        <td id=\"T_bdc26382_7991_11e9_8f75_9840bb1188e2row0_col1\" class=\"data row0 col1\" >0.170741</td>\n",
       "                        <td id=\"T_bdc26382_7991_11e9_8f75_9840bb1188e2row0_col2\" class=\"data row0 col2\" >0.50479</td>\n",
       "                        <td id=\"T_bdc26382_7991_11e9_8f75_9840bb1188e2row0_col3\" class=\"data row0 col3\" >0.545506</td>\n",
       "                        <td id=\"T_bdc26382_7991_11e9_8f75_9840bb1188e2row0_col4\" class=\"data row0 col4\" >0.149685</td>\n",
       "                        <td id=\"T_bdc26382_7991_11e9_8f75_9840bb1188e2row0_col5\" class=\"data row0 col5\" >0.182298</td>\n",
       "                        <td id=\"T_bdc26382_7991_11e9_8f75_9840bb1188e2row0_col6\" class=\"data row0 col6\" >0.0435111</td>\n",
       "                        <td id=\"T_bdc26382_7991_11e9_8f75_9840bb1188e2row0_col7\" class=\"data row0 col7\" >0.479703</td>\n",
       "                        <td id=\"T_bdc26382_7991_11e9_8f75_9840bb1188e2row0_col8\" class=\"data row0 col8\" >0.0996768</td>\n",
       "                        <td id=\"T_bdc26382_7991_11e9_8f75_9840bb1188e2row0_col9\" class=\"data row0 col9\" >0.44639</td>\n",
       "                        <td id=\"T_bdc26382_7991_11e9_8f75_9840bb1188e2row0_col10\" class=\"data row0 col10\" >0.122349</td>\n",
       "            </tr>\n",
       "            <tr>\n",
       "                        <th id=\"T_bdc26382_7991_11e9_8f75_9840bb1188e2level0_row1\" class=\"row_heading level0 row1\" >Transportation expense</th>\n",
       "                        <td id=\"T_bdc26382_7991_11e9_8f75_9840bb1188e2row1_col0\" class=\"data row1 col0\" >0.170741</td>\n",
       "                        <td id=\"T_bdc26382_7991_11e9_8f75_9840bb1188e2row1_col1\" class=\"data row1 col1\" >1</td>\n",
       "                        <td id=\"T_bdc26382_7991_11e9_8f75_9840bb1188e2row1_col2\" class=\"data row1 col2\" >0.235648</td>\n",
       "                        <td id=\"T_bdc26382_7991_11e9_8f75_9840bb1188e2row1_col3\" class=\"data row1 col3\" >0.270721</td>\n",
       "                        <td id=\"T_bdc26382_7991_11e9_8f75_9840bb1188e2row1_col4\" class=\"data row1 col4\" >0.133356</td>\n",
       "                        <td id=\"T_bdc26382_7991_11e9_8f75_9840bb1188e2row1_col5\" class=\"data row1 col5\" >0.00966885</td>\n",
       "                        <td id=\"T_bdc26382_7991_11e9_8f75_9840bb1188e2row1_col6\" class=\"data row1 col6\" >0.0979424</td>\n",
       "                        <td id=\"T_bdc26382_7991_11e9_8f75_9840bb1188e2row1_col7\" class=\"data row1 col7\" >0.0848217</td>\n",
       "                        <td id=\"T_bdc26382_7991_11e9_8f75_9840bb1188e2row1_col8\" class=\"data row1 col8\" >0.071039</td>\n",
       "                        <td id=\"T_bdc26382_7991_11e9_8f75_9840bb1188e2row1_col9\" class=\"data row1 col9\" >0.0761902</td>\n",
       "                        <td id=\"T_bdc26382_7991_11e9_8f75_9840bb1188e2row1_col10\" class=\"data row1 col10\" >0.188551</td>\n",
       "            </tr>\n",
       "            <tr>\n",
       "                        <th id=\"T_bdc26382_7991_11e9_8f75_9840bb1188e2level0_row2\" class=\"row_heading level0 row2\" >Distance from Residence to Work</th>\n",
       "                        <td id=\"T_bdc26382_7991_11e9_8f75_9840bb1188e2row2_col0\" class=\"data row2 col0\" >0.50479</td>\n",
       "                        <td id=\"T_bdc26382_7991_11e9_8f75_9840bb1188e2row2_col1\" class=\"data row2 col1\" >0.235648</td>\n",
       "                        <td id=\"T_bdc26382_7991_11e9_8f75_9840bb1188e2row2_col2\" class=\"data row2 col2\" >1</td>\n",
       "                        <td id=\"T_bdc26382_7991_11e9_8f75_9840bb1188e2row2_col3\" class=\"data row2 col3\" >0.24954</td>\n",
       "                        <td id=\"T_bdc26382_7991_11e9_8f75_9840bb1188e2row2_col4\" class=\"data row2 col4\" >0.0413169</td>\n",
       "                        <td id=\"T_bdc26382_7991_11e9_8f75_9840bb1188e2row2_col5\" class=\"data row2 col5\" >0.145213</td>\n",
       "                        <td id=\"T_bdc26382_7991_11e9_8f75_9840bb1188e2row2_col6\" class=\"data row2 col6\" >0.0950885</td>\n",
       "                        <td id=\"T_bdc26382_7991_11e9_8f75_9840bb1188e2row2_col7\" class=\"data row2 col7\" >0.116024</td>\n",
       "                        <td id=\"T_bdc26382_7991_11e9_8f75_9840bb1188e2row2_col8\" class=\"data row2 col8\" >0.102918</td>\n",
       "                        <td id=\"T_bdc26382_7991_11e9_8f75_9840bb1188e2row2_col9\" class=\"data row2 col9\" >0.14677</td>\n",
       "                        <td id=\"T_bdc26382_7991_11e9_8f75_9840bb1188e2row2_col10\" class=\"data row2 col10\" >0.00663594</td>\n",
       "            </tr>\n",
       "            <tr>\n",
       "                        <th id=\"T_bdc26382_7991_11e9_8f75_9840bb1188e2level0_row3\" class=\"row_heading level0 row3\" >Service time</th>\n",
       "                        <td id=\"T_bdc26382_7991_11e9_8f75_9840bb1188e2row3_col0\" class=\"data row3 col0\" >0.545506</td>\n",
       "                        <td id=\"T_bdc26382_7991_11e9_8f75_9840bb1188e2row3_col1\" class=\"data row3 col1\" >0.270721</td>\n",
       "                        <td id=\"T_bdc26382_7991_11e9_8f75_9840bb1188e2row3_col2\" class=\"data row3 col2\" >0.24954</td>\n",
       "                        <td id=\"T_bdc26382_7991_11e9_8f75_9840bb1188e2row3_col3\" class=\"data row3 col3\" >1</td>\n",
       "                        <td id=\"T_bdc26382_7991_11e9_8f75_9840bb1188e2row3_col4\" class=\"data row3 col4\" >0.658381</td>\n",
       "                        <td id=\"T_bdc26382_7991_11e9_8f75_9840bb1188e2row3_col5\" class=\"data row3 col5\" >0.126695</td>\n",
       "                        <td id=\"T_bdc26382_7991_11e9_8f75_9840bb1188e2row3_col6\" class=\"data row3 col6\" >0.116182</td>\n",
       "                        <td id=\"T_bdc26382_7991_11e9_8f75_9840bb1188e2row3_col7\" class=\"data row3 col7\" >0.438843</td>\n",
       "                        <td id=\"T_bdc26382_7991_11e9_8f75_9840bb1188e2row3_col8\" class=\"data row3 col8\" >0.0850219</td>\n",
       "                        <td id=\"T_bdc26382_7991_11e9_8f75_9840bb1188e2row3_col9\" class=\"data row3 col9\" >0.455525</td>\n",
       "                        <td id=\"T_bdc26382_7991_11e9_8f75_9840bb1188e2row3_col10\" class=\"data row3 col10\" >0.0455528</td>\n",
       "            </tr>\n",
       "            <tr>\n",
       "                        <th id=\"T_bdc26382_7991_11e9_8f75_9840bb1188e2level0_row4\" class=\"row_heading level0 row4\" >Age</th>\n",
       "                        <td id=\"T_bdc26382_7991_11e9_8f75_9840bb1188e2row4_col0\" class=\"data row4 col0\" >0.149685</td>\n",
       "                        <td id=\"T_bdc26382_7991_11e9_8f75_9840bb1188e2row4_col1\" class=\"data row4 col1\" >0.133356</td>\n",
       "                        <td id=\"T_bdc26382_7991_11e9_8f75_9840bb1188e2row4_col2\" class=\"data row4 col2\" >0.0413169</td>\n",
       "                        <td id=\"T_bdc26382_7991_11e9_8f75_9840bb1188e2row4_col3\" class=\"data row4 col3\" >0.658381</td>\n",
       "                        <td id=\"T_bdc26382_7991_11e9_8f75_9840bb1188e2row4_col4\" class=\"data row4 col4\" >1</td>\n",
       "                        <td id=\"T_bdc26382_7991_11e9_8f75_9840bb1188e2row4_col5\" class=\"data row4 col5\" >0.0990558</td>\n",
       "                        <td id=\"T_bdc26382_7991_11e9_8f75_9840bb1188e2row4_col6\" class=\"data row4 col6\" >0.0288762</td>\n",
       "                        <td id=\"T_bdc26382_7991_11e9_8f75_9840bb1188e2row4_col7\" class=\"data row4 col7\" >0.460429</td>\n",
       "                        <td id=\"T_bdc26382_7991_11e9_8f75_9840bb1188e2row4_col8\" class=\"data row4 col8\" >0.181227</td>\n",
       "                        <td id=\"T_bdc26382_7991_11e9_8f75_9840bb1188e2row4_col9\" class=\"data row4 col9\" >0.492735</td>\n",
       "                        <td id=\"T_bdc26382_7991_11e9_8f75_9840bb1188e2row4_col10\" class=\"data row4 col10\" >0.0261042</td>\n",
       "            </tr>\n",
       "            <tr>\n",
       "                        <th id=\"T_bdc26382_7991_11e9_8f75_9840bb1188e2level0_row5\" class=\"row_heading level0 row5\" >Work load Average per day</th>\n",
       "                        <td id=\"T_bdc26382_7991_11e9_8f75_9840bb1188e2row5_col0\" class=\"data row5 col0\" >0.182298</td>\n",
       "                        <td id=\"T_bdc26382_7991_11e9_8f75_9840bb1188e2row5_col1\" class=\"data row5 col1\" >0.00966885</td>\n",
       "                        <td id=\"T_bdc26382_7991_11e9_8f75_9840bb1188e2row5_col2\" class=\"data row5 col2\" >0.145213</td>\n",
       "                        <td id=\"T_bdc26382_7991_11e9_8f75_9840bb1188e2row5_col3\" class=\"data row5 col3\" >0.126695</td>\n",
       "                        <td id=\"T_bdc26382_7991_11e9_8f75_9840bb1188e2row5_col4\" class=\"data row5 col4\" >0.0990558</td>\n",
       "                        <td id=\"T_bdc26382_7991_11e9_8f75_9840bb1188e2row5_col5\" class=\"data row5 col5\" >1</td>\n",
       "                        <td id=\"T_bdc26382_7991_11e9_8f75_9840bb1188e2row5_col6\" class=\"data row5 col6\" >0.0330058</td>\n",
       "                        <td id=\"T_bdc26382_7991_11e9_8f75_9840bb1188e2row5_col7\" class=\"data row5 col7\" >0.154808</td>\n",
       "                        <td id=\"T_bdc26382_7991_11e9_8f75_9840bb1188e2row5_col8\" class=\"data row5 col8\" >0.0466101</td>\n",
       "                        <td id=\"T_bdc26382_7991_11e9_8f75_9840bb1188e2row5_col9\" class=\"data row5 col9\" >0.136063</td>\n",
       "                        <td id=\"T_bdc26382_7991_11e9_8f75_9840bb1188e2row5_col10\" class=\"data row5 col10\" >0.0517173</td>\n",
       "            </tr>\n",
       "            <tr>\n",
       "                        <th id=\"T_bdc26382_7991_11e9_8f75_9840bb1188e2level0_row6\" class=\"row_heading level0 row6\" >Hit target</th>\n",
       "                        <td id=\"T_bdc26382_7991_11e9_8f75_9840bb1188e2row6_col0\" class=\"data row6 col0\" >0.0435111</td>\n",
       "                        <td id=\"T_bdc26382_7991_11e9_8f75_9840bb1188e2row6_col1\" class=\"data row6 col1\" >0.0979424</td>\n",
       "                        <td id=\"T_bdc26382_7991_11e9_8f75_9840bb1188e2row6_col2\" class=\"data row6 col2\" >0.0950885</td>\n",
       "                        <td id=\"T_bdc26382_7991_11e9_8f75_9840bb1188e2row6_col3\" class=\"data row6 col3\" >0.116182</td>\n",
       "                        <td id=\"T_bdc26382_7991_11e9_8f75_9840bb1188e2row6_col4\" class=\"data row6 col4\" >0.0288762</td>\n",
       "                        <td id=\"T_bdc26382_7991_11e9_8f75_9840bb1188e2row6_col5\" class=\"data row6 col5\" >0.0330058</td>\n",
       "                        <td id=\"T_bdc26382_7991_11e9_8f75_9840bb1188e2row6_col6\" class=\"data row6 col6\" >1</td>\n",
       "                        <td id=\"T_bdc26382_7991_11e9_8f75_9840bb1188e2row6_col7\" class=\"data row6 col7\" >0.0459494</td>\n",
       "                        <td id=\"T_bdc26382_7991_11e9_8f75_9840bb1188e2row6_col8\" class=\"data row6 col8\" >0.005675</td>\n",
       "                        <td id=\"T_bdc26382_7991_11e9_8f75_9840bb1188e2row6_col9\" class=\"data row6 col9\" >0.0433855</td>\n",
       "                        <td id=\"T_bdc26382_7991_11e9_8f75_9840bb1188e2row6_col10\" class=\"data row6 col10\" >0.0166649</td>\n",
       "            </tr>\n",
       "            <tr>\n",
       "                        <th id=\"T_bdc26382_7991_11e9_8f75_9840bb1188e2level0_row7\" class=\"row_heading level0 row7\" >Weight</th>\n",
       "                        <td id=\"T_bdc26382_7991_11e9_8f75_9840bb1188e2row7_col0\" class=\"data row7 col0\" >0.479703</td>\n",
       "                        <td id=\"T_bdc26382_7991_11e9_8f75_9840bb1188e2row7_col1\" class=\"data row7 col1\" >0.0848217</td>\n",
       "                        <td id=\"T_bdc26382_7991_11e9_8f75_9840bb1188e2row7_col2\" class=\"data row7 col2\" >0.116024</td>\n",
       "                        <td id=\"T_bdc26382_7991_11e9_8f75_9840bb1188e2row7_col3\" class=\"data row7 col3\" >0.438843</td>\n",
       "                        <td id=\"T_bdc26382_7991_11e9_8f75_9840bb1188e2row7_col4\" class=\"data row7 col4\" >0.460429</td>\n",
       "                        <td id=\"T_bdc26382_7991_11e9_8f75_9840bb1188e2row7_col5\" class=\"data row7 col5\" >0.154808</td>\n",
       "                        <td id=\"T_bdc26382_7991_11e9_8f75_9840bb1188e2row7_col6\" class=\"data row7 col6\" >0.0459494</td>\n",
       "                        <td id=\"T_bdc26382_7991_11e9_8f75_9840bb1188e2row7_col7\" class=\"data row7 col7\" >1</td>\n",
       "                        <td id=\"T_bdc26382_7991_11e9_8f75_9840bb1188e2row7_col8\" class=\"data row7 col8\" >0.0345491</td>\n",
       "                        <td id=\"T_bdc26382_7991_11e9_8f75_9840bb1188e2row7_col9\" class=\"data row7 col9\" >0.944465</td>\n",
       "                        <td id=\"T_bdc26382_7991_11e9_8f75_9840bb1188e2row7_col10\" class=\"data row7 col10\" >0.0278699</td>\n",
       "            </tr>\n",
       "            <tr>\n",
       "                        <th id=\"T_bdc26382_7991_11e9_8f75_9840bb1188e2level0_row8\" class=\"row_heading level0 row8\" >Height</th>\n",
       "                        <td id=\"T_bdc26382_7991_11e9_8f75_9840bb1188e2row8_col0\" class=\"data row8 col0\" >0.0996768</td>\n",
       "                        <td id=\"T_bdc26382_7991_11e9_8f75_9840bb1188e2row8_col1\" class=\"data row8 col1\" >0.071039</td>\n",
       "                        <td id=\"T_bdc26382_7991_11e9_8f75_9840bb1188e2row8_col2\" class=\"data row8 col2\" >0.102918</td>\n",
       "                        <td id=\"T_bdc26382_7991_11e9_8f75_9840bb1188e2row8_col3\" class=\"data row8 col3\" >0.0850219</td>\n",
       "                        <td id=\"T_bdc26382_7991_11e9_8f75_9840bb1188e2row8_col4\" class=\"data row8 col4\" >0.181227</td>\n",
       "                        <td id=\"T_bdc26382_7991_11e9_8f75_9840bb1188e2row8_col5\" class=\"data row8 col5\" >0.0466101</td>\n",
       "                        <td id=\"T_bdc26382_7991_11e9_8f75_9840bb1188e2row8_col6\" class=\"data row8 col6\" >0.005675</td>\n",
       "                        <td id=\"T_bdc26382_7991_11e9_8f75_9840bb1188e2row8_col7\" class=\"data row8 col7\" >0.0345491</td>\n",
       "                        <td id=\"T_bdc26382_7991_11e9_8f75_9840bb1188e2row8_col8\" class=\"data row8 col8\" >1</td>\n",
       "                        <td id=\"T_bdc26382_7991_11e9_8f75_9840bb1188e2row8_col9\" class=\"data row8 col9\" >0.155539</td>\n",
       "                        <td id=\"T_bdc26382_7991_11e9_8f75_9840bb1188e2row8_col10\" class=\"data row8 col10\" >0.02973</td>\n",
       "            </tr>\n",
       "            <tr>\n",
       "                        <th id=\"T_bdc26382_7991_11e9_8f75_9840bb1188e2level0_row9\" class=\"row_heading level0 row9\" >Body mass index</th>\n",
       "                        <td id=\"T_bdc26382_7991_11e9_8f75_9840bb1188e2row9_col0\" class=\"data row9 col0\" >0.44639</td>\n",
       "                        <td id=\"T_bdc26382_7991_11e9_8f75_9840bb1188e2row9_col1\" class=\"data row9 col1\" >0.0761902</td>\n",
       "                        <td id=\"T_bdc26382_7991_11e9_8f75_9840bb1188e2row9_col2\" class=\"data row9 col2\" >0.14677</td>\n",
       "                        <td id=\"T_bdc26382_7991_11e9_8f75_9840bb1188e2row9_col3\" class=\"data row9 col3\" >0.455525</td>\n",
       "                        <td id=\"T_bdc26382_7991_11e9_8f75_9840bb1188e2row9_col4\" class=\"data row9 col4\" >0.492735</td>\n",
       "                        <td id=\"T_bdc26382_7991_11e9_8f75_9840bb1188e2row9_col5\" class=\"data row9 col5\" >0.136063</td>\n",
       "                        <td id=\"T_bdc26382_7991_11e9_8f75_9840bb1188e2row9_col6\" class=\"data row9 col6\" >0.0433855</td>\n",
       "                        <td id=\"T_bdc26382_7991_11e9_8f75_9840bb1188e2row9_col7\" class=\"data row9 col7\" >0.944465</td>\n",
       "                        <td id=\"T_bdc26382_7991_11e9_8f75_9840bb1188e2row9_col8\" class=\"data row9 col8\" >0.155539</td>\n",
       "                        <td id=\"T_bdc26382_7991_11e9_8f75_9840bb1188e2row9_col9\" class=\"data row9 col9\" >1</td>\n",
       "                        <td id=\"T_bdc26382_7991_11e9_8f75_9840bb1188e2row9_col10\" class=\"data row9 col10\" >0.0094265</td>\n",
       "            </tr>\n",
       "            <tr>\n",
       "                        <th id=\"T_bdc26382_7991_11e9_8f75_9840bb1188e2level0_row10\" class=\"row_heading level0 row10\" >Absenteeism time in hours</th>\n",
       "                        <td id=\"T_bdc26382_7991_11e9_8f75_9840bb1188e2row10_col0\" class=\"data row10 col0\" >0.122349</td>\n",
       "                        <td id=\"T_bdc26382_7991_11e9_8f75_9840bb1188e2row10_col1\" class=\"data row10 col1\" >0.188551</td>\n",
       "                        <td id=\"T_bdc26382_7991_11e9_8f75_9840bb1188e2row10_col2\" class=\"data row10 col2\" >0.00663594</td>\n",
       "                        <td id=\"T_bdc26382_7991_11e9_8f75_9840bb1188e2row10_col3\" class=\"data row10 col3\" >0.0455528</td>\n",
       "                        <td id=\"T_bdc26382_7991_11e9_8f75_9840bb1188e2row10_col4\" class=\"data row10 col4\" >0.0261042</td>\n",
       "                        <td id=\"T_bdc26382_7991_11e9_8f75_9840bb1188e2row10_col5\" class=\"data row10 col5\" >0.0517173</td>\n",
       "                        <td id=\"T_bdc26382_7991_11e9_8f75_9840bb1188e2row10_col6\" class=\"data row10 col6\" >0.0166649</td>\n",
       "                        <td id=\"T_bdc26382_7991_11e9_8f75_9840bb1188e2row10_col7\" class=\"data row10 col7\" >0.0278699</td>\n",
       "                        <td id=\"T_bdc26382_7991_11e9_8f75_9840bb1188e2row10_col8\" class=\"data row10 col8\" >0.02973</td>\n",
       "                        <td id=\"T_bdc26382_7991_11e9_8f75_9840bb1188e2row10_col9\" class=\"data row10 col9\" >0.0094265</td>\n",
       "                        <td id=\"T_bdc26382_7991_11e9_8f75_9840bb1188e2row10_col10\" class=\"data row10 col10\" >1</td>\n",
       "            </tr>\n",
       "    </tbody></table>"
      ],
      "text/plain": [
       "<pandas.io.formats.style.Styler at 0x2a27ea824a8>"
      ]
     },
     "execution_count": 616,
     "metadata": {},
     "output_type": "execute_result"
    }
   ],
   "source": [
    "import numpy as np\n",
    "\n",
    "# Create correlation matrix\n",
    "corr_matrix = absent.corr().abs()\n",
    "corr_matrix.style.background_gradient(cmap='PuBuGn_r')"
   ]
  },
  {
   "cell_type": "code",
   "execution_count": 617,
   "metadata": {},
   "outputs": [],
   "source": [
    "# Select upper triangle of correlation matrix\n",
    "upper = corr_matrix.where(np.triu(np.ones(corr_matrix.shape), k=1).astype(np.bool))\n",
    "\n",
    "# Find features with correlation greater than 0.95\n",
    "to_drop = [column for column in upper.columns if any(upper[column] > 0.94)]"
   ]
  },
  {
   "cell_type": "code",
   "execution_count": 618,
   "metadata": {},
   "outputs": [
    {
     "data": {
      "text/plain": [
       "['Body mass index']"
      ]
     },
     "execution_count": 618,
     "metadata": {},
     "output_type": "execute_result"
    }
   ],
   "source": [
    "to_drop"
   ]
  },
  {
   "cell_type": "markdown",
   "metadata": {},
   "source": [
    "body mass index = as it is in high correlation with weight\n",
    "\n",
    "Distance from Residence to Work = because it has very low corr with target(Absenteeism time in hours)[0.00663594] "
   ]
  },
  {
   "cell_type": "code",
   "execution_count": 619,
   "metadata": {},
   "outputs": [],
   "source": [
    "# Drop features \n",
    "absent=absent.drop(['Distance from Residence to Work','Body mass index'], axis =1)"
   ]
  },
  {
   "cell_type": "code",
   "execution_count": 620,
   "metadata": {},
   "outputs": [
    {
     "data": {
      "text/plain": [
       "(531, 19)"
      ]
     },
     "execution_count": 620,
     "metadata": {},
     "output_type": "execute_result"
    }
   ],
   "source": [
    "absent.shape"
   ]
  },
  {
   "cell_type": "code",
   "execution_count": 621,
   "metadata": {},
   "outputs": [
    {
     "data": {
      "text/plain": [
       "ID                              int64\n",
       "Reason for absence           category\n",
       "Month of absence             category\n",
       "Day of the week              category\n",
       "Seasons                      category\n",
       "Transportation expense        float64\n",
       "Service time                  float64\n",
       "Age                           float64\n",
       "Work load Average per day     float64\n",
       "Hit target                    float64\n",
       "Disciplinary failure         category\n",
       "Education                    category\n",
       "Son                          category\n",
       "Social drinker               category\n",
       "Social smoker                category\n",
       "Pet                          category\n",
       "Weight                        float64\n",
       "Height                        float64\n",
       "Absenteeism time in hours     float64\n",
       "dtype: object"
      ]
     },
     "execution_count": 621,
     "metadata": {},
     "output_type": "execute_result"
    }
   ],
   "source": [
    "absent.dtypes"
   ]
  },
  {
   "cell_type": "code",
   "execution_count": null,
   "metadata": {},
   "outputs": [],
   "source": []
  },
  {
   "cell_type": "markdown",
   "metadata": {},
   "source": [
    "# scaling"
   ]
  },
  {
   "cell_type": "code",
   "execution_count": 622,
   "metadata": {},
   "outputs": [],
   "source": [
    "import numpy as np\n",
    "\n",
    "absent_unscaled = absent.copy()"
   ]
  },
  {
   "cell_type": "markdown",
   "metadata": {},
   "source": [
    "making a unscaled copy of it , here we are not scaling the absenteeism hour (because we need to get that value in hours)"
   ]
  },
  {
   "cell_type": "code",
   "execution_count": 623,
   "metadata": {},
   "outputs": [],
   "source": [
    "absent_unscaled['Month of absence']=absent_unscaled['Month of absence'].round().astype(int)"
   ]
  },
  {
   "cell_type": "code",
   "execution_count": 624,
   "metadata": {},
   "outputs": [],
   "source": [
    "group_df =pd.DataFrame(absent_unscaled.groupby('Month of absence')['Absenteeism time in hours'].sum())"
   ]
  },
  {
   "cell_type": "code",
   "execution_count": 625,
   "metadata": {},
   "outputs": [],
   "source": [
    "group_df['Month of absence'] = group_df.index"
   ]
  },
  {
   "cell_type": "code",
   "execution_count": 626,
   "metadata": {},
   "outputs": [],
   "source": [
    "group_df = group_df.rename_axis('index')"
   ]
  },
  {
   "cell_type": "code",
   "execution_count": 627,
   "metadata": {},
   "outputs": [
    {
     "data": {
      "text/html": [
       "<div>\n",
       "<style scoped>\n",
       "    .dataframe tbody tr th:only-of-type {\n",
       "        vertical-align: middle;\n",
       "    }\n",
       "\n",
       "    .dataframe tbody tr th {\n",
       "        vertical-align: top;\n",
       "    }\n",
       "\n",
       "    .dataframe thead th {\n",
       "        text-align: right;\n",
       "    }\n",
       "</style>\n",
       "<table border=\"1\" class=\"dataframe\">\n",
       "  <thead>\n",
       "    <tr style=\"text-align: right;\">\n",
       "      <th></th>\n",
       "      <th>Absenteeism time in hours</th>\n",
       "      <th>Month of absence</th>\n",
       "    </tr>\n",
       "    <tr>\n",
       "      <th>index</th>\n",
       "      <th></th>\n",
       "      <th></th>\n",
       "    </tr>\n",
       "  </thead>\n",
       "  <tbody>\n",
       "    <tr>\n",
       "      <th>1</th>\n",
       "      <td>132.0</td>\n",
       "      <td>1</td>\n",
       "    </tr>\n",
       "    <tr>\n",
       "      <th>2</th>\n",
       "      <td>210.0</td>\n",
       "      <td>2</td>\n",
       "    </tr>\n",
       "    <tr>\n",
       "      <th>3</th>\n",
       "      <td>389.0</td>\n",
       "      <td>3</td>\n",
       "    </tr>\n",
       "    <tr>\n",
       "      <th>4</th>\n",
       "      <td>182.0</td>\n",
       "      <td>4</td>\n",
       "    </tr>\n",
       "    <tr>\n",
       "      <th>5</th>\n",
       "      <td>127.0</td>\n",
       "      <td>5</td>\n",
       "    </tr>\n",
       "    <tr>\n",
       "      <th>6</th>\n",
       "      <td>107.0</td>\n",
       "      <td>6</td>\n",
       "    </tr>\n",
       "    <tr>\n",
       "      <th>7</th>\n",
       "      <td>265.0</td>\n",
       "      <td>7</td>\n",
       "    </tr>\n",
       "    <tr>\n",
       "      <th>8</th>\n",
       "      <td>173.0</td>\n",
       "      <td>8</td>\n",
       "    </tr>\n",
       "    <tr>\n",
       "      <th>9</th>\n",
       "      <td>50.0</td>\n",
       "      <td>9</td>\n",
       "    </tr>\n",
       "    <tr>\n",
       "      <th>10</th>\n",
       "      <td>269.0</td>\n",
       "      <td>10</td>\n",
       "    </tr>\n",
       "    <tr>\n",
       "      <th>11</th>\n",
       "      <td>217.0</td>\n",
       "      <td>11</td>\n",
       "    </tr>\n",
       "    <tr>\n",
       "      <th>12</th>\n",
       "      <td>171.0</td>\n",
       "      <td>12</td>\n",
       "    </tr>\n",
       "  </tbody>\n",
       "</table>\n",
       "</div>"
      ],
      "text/plain": [
       "       Absenteeism time in hours  Month of absence\n",
       "index                                             \n",
       "1                          132.0                 1\n",
       "2                          210.0                 2\n",
       "3                          389.0                 3\n",
       "4                          182.0                 4\n",
       "5                          127.0                 5\n",
       "6                          107.0                 6\n",
       "7                          265.0                 7\n",
       "8                          173.0                 8\n",
       "9                           50.0                 9\n",
       "10                         269.0                10\n",
       "11                         217.0                11\n",
       "12                         171.0                12"
      ]
     },
     "execution_count": 627,
     "metadata": {},
     "output_type": "execute_result"
    }
   ],
   "source": [
    "group_df"
   ]
  },
  {
   "cell_type": "code",
   "execution_count": 628,
   "metadata": {},
   "outputs": [
    {
     "data": {
      "text/plain": [
       "<matplotlib.axes._subplots.AxesSubplot at 0x2a27eab42e8>"
      ]
     },
     "execution_count": 628,
     "metadata": {},
     "output_type": "execute_result"
    },
    {
     "data": {
      "image/png": "[encoded data removed]",
      "text/plain": [
       "<Figure size 720x360 with 1 Axes>"
      ]
     },
     "metadata": {},
     "output_type": "display_data"
    }
   ],
   "source": [
    "sns.lineplot(x='Month of absence', y='Absenteeism time in hours', data=group_df)"
   ]
  },
  {
   "cell_type": "code",
   "execution_count": 629,
   "metadata": {},
   "outputs": [],
   "source": [
    "#removing these two columns from num_colnames1\n",
    "num_colnames1.remove('Distance from Residence to Work')\n",
    "num_colnames1.remove('Body mass index')"
   ]
  },
  {
   "cell_type": "code",
   "execution_count": 630,
   "metadata": {},
   "outputs": [
    {
     "name": "stdout",
     "output_type": "stream",
     "text": [
      "Transportation expense\n",
      "Service time\n",
      "Age\n",
      "Work load Average per day\n",
      "Hit target\n",
      "Height\n",
      "Weight\n",
      "Absenteeism time in hours\n"
     ]
    }
   ],
   "source": [
    "for i in num_colnames1:\n",
    "    print(i)\n",
    "    max_i= np.max(absent[i])\n",
    "    min_i= np.min(absent[i])\n",
    "    absent[i] = ((absent[i]) - (min_i))/((max_i)-(min_i))"
   ]
  },
  {
   "cell_type": "markdown",
   "metadata": {},
   "source": [
    "# getting absent hours dependency with categorical variables"
   ]
  },
  {
   "cell_type": "code",
   "execution_count": 631,
   "metadata": {},
   "outputs": [],
   "source": [
    "def depend(a):\n",
    "    b = 'Absenteeism time in hours'\n",
    "    new_absent = absent.groupby(a)[b].sum()\n",
    "    new_absent = new_absent.reset_index()\n",
    "    \n",
    "    #getting the percentage of absent hours for 'a'\n",
    "    new_absent['per'] = new_absent[b]*100/sum(absent[b])\n",
    "    new_absent = new_absent.sort_values(by=['Absenteeism time in hours'])\n",
    "    print(new_absent)\n",
    "    return new_absent.plot.bar(x=a,y=b,stacked=True,colormap='Blues_r', rot =0)"
   ]
  },
  {
   "cell_type": "code",
   "execution_count": 632,
   "metadata": {},
   "outputs": [
    {
     "data": {
      "text/plain": [
       "['Reason for absence',\n",
       " 'Month of absence',\n",
       " 'Day of the week',\n",
       " 'Seasons',\n",
       " 'Disciplinary failure',\n",
       " 'Education',\n",
       " 'Son',\n",
       " 'Social drinker',\n",
       " 'Social smoker',\n",
       " 'Pet']"
      ]
     },
     "execution_count": 632,
     "metadata": {},
     "output_type": "execute_result"
    }
   ],
   "source": [
    "cat_colnames"
   ]
  },
  {
   "cell_type": "code",
   "execution_count": 633,
   "metadata": {},
   "outputs": [
    {
     "name": "stdout",
     "output_type": "stream",
     "text": [
      "   Reason for absence  Absenteeism time in hours        per\n",
      "1                 2.0                     0.0000   0.000000\n",
      "15               16.0                     0.1875   0.130890\n",
      "8                 9.0                     0.5000   0.349040\n",
      "16               17.0                     0.5000   0.349040\n",
      "2                 3.0                     0.5000   0.349040\n",
      "3                 4.0                     0.5000   0.349040\n",
      "19               20.0                     0.7500   0.523560\n",
      "4                 5.0                     1.0000   0.698080\n",
      "14               15.0                     1.0000   0.698080\n",
      "11               12.0                     1.4375   1.003490\n",
      "23               24.0                     1.5000   1.047120\n",
      "5                 6.0                     1.6875   1.178010\n",
      "7                 8.0                     2.0000   1.396161\n",
      "20               21.0                     2.1875   1.527051\n",
      "6                 7.0                     3.1250   2.181501\n",
      "0                 1.0                     3.8125   2.661431\n",
      "17               18.0                     4.0625   2.835951\n",
      "13               14.0                     4.6875   3.272251\n",
      "24               25.0                     4.8125   3.359511\n",
      "10               11.0                     5.1250   3.577661\n",
      "9                10.0                     5.7500   4.013962\n",
      "26               27.0                    10.3125   7.198953\n",
      "18               19.0                    11.0625   7.722513\n",
      "12               13.0                    12.0625   8.420593\n",
      "25               26.0                    12.6875   8.856894\n",
      "21               22.0                    15.0625  10.514834\n",
      "27               28.0                    16.3125  11.387435\n",
      "22               23.0                    20.6250  14.397906\n"
     ]
    },
    {
     "data": {
      "text/plain": [
       "<matplotlib.axes._subplots.AxesSubplot at 0x2a27eb079b0>"
      ]
     },
     "execution_count": 633,
     "metadata": {},
     "output_type": "execute_result"
    },
    {
     "data": {
      "image/png": "[encoded data removed]",
      "text/plain": [
       "<Figure size 720x360 with 1 Axes>"
      ]
     },
     "metadata": {},
     "output_type": "display_data"
    }
   ],
   "source": [
    "depend('Reason for absence')"
   ]
  },
  {
   "cell_type": "markdown",
   "metadata": {},
   "source": [
    "Here 23 (medical consultation) is the main factor that is 14.39 %. and other  is 28(dental consultation)\n",
    "so the company need to have a doctor and dentist in office so that employee could go there first.\n",
    "and other thing is about having low work pressure .\n",
    "we should need togive  employees health guidelines of the dental issues , so that they can take better care of their teeth."
   ]
  },
  {
   "cell_type": "code",
   "execution_count": 634,
   "metadata": {},
   "outputs": [
    {
     "name": "stdout",
     "output_type": "stream",
     "text": [
      "   Month of absence  Absenteeism time in hours        per\n",
      "6          6.350068                     0.0000   0.000000\n",
      "9          9.000000                     3.1250   2.181501\n",
      "5          6.000000                     6.6875   4.668412\n",
      "4          5.000000                     7.9375   5.541012\n",
      "0          1.000000                     8.2500   5.759162\n",
      "12        12.000000                    10.6875   7.460733\n",
      "8          8.000000                    10.8125   7.547993\n",
      "3          4.000000                    11.3750   7.940663\n",
      "1          2.000000                    13.1250   9.162304\n",
      "11        11.000000                    13.5625   9.467714\n",
      "7          7.000000                    16.5625  11.561955\n",
      "10        10.000000                    16.8125  11.736475\n",
      "2          3.000000                    24.3125  16.972077\n"
     ]
    },
    {
     "data": {
      "text/plain": [
       "<matplotlib.axes._subplots.AxesSubplot at 0x2a27ebbff28>"
      ]
     },
     "execution_count": 634,
     "metadata": {},
     "output_type": "execute_result"
    },
    {
     "data": {
      "image/png": "[encoded data removed]",
      "text/plain": [
       "<Figure size 720x360 with 1 Axes>"
      ]
     },
     "metadata": {},
     "output_type": "display_data"
    }
   ],
   "source": [
    "depend('Month of absence')\n",
    "\n"
   ]
  },
  {
   "cell_type": "markdown",
   "metadata": {},
   "source": [
    "Top 3 months in order of Absenteeism time are:\n",
    "\n",
    "Month 3:March - 16.97 % of total time\n",
    "Month 10:October - 11.73 % of total time\n",
    "Month 7:July - 11.56 % of total time\n",
    "\n",
    "The company can ask the employees to not take leave in march specifically. As march is  end of financial year , that might be reason for leaves. The company can keep specific sessions(motivational) for employees , so that they can stretch their limits for that month. "
   ]
  },
  {
   "cell_type": "code",
   "execution_count": 635,
   "metadata": {
    "scrolled": true
   },
   "outputs": [
    {
     "name": "stdout",
     "output_type": "stream",
     "text": [
      "    ID  Absenteeism time in hours        per\n",
      "24  35                     0.0000   0.000000\n",
      "2    4                     0.0000   0.000000\n",
      "21  29                     0.0000   0.000000\n",
      "6    8                     0.0000   0.000000\n",
      "13  19                     0.3750   0.261780\n",
      "11  16                     1.0000   0.698080\n",
      "18  26                     1.1875   0.828970\n",
      "19  27                     1.4375   1.003490\n",
      "5    7                     1.8750   1.308901\n",
      "16  23                     2.0000   1.396161\n",
      "9   13                     4.0625   2.835951\n",
      "22  33                     4.5000   3.141361\n",
      "4    6                     4.5000   3.141361\n",
      "10  15                     5.3125   3.708551\n",
      "12  17                     5.3750   3.752182\n",
      "17  24                     6.0000   4.188482\n",
      "3    5                     6.2500   4.363002\n",
      "0    1                     7.0625   4.930192\n",
      "7   10                     8.1250   5.671902\n",
      "15  22                     9.6875   6.762653\n",
      "23  34                    11.8125   8.246073\n",
      "14  20                    13.4375   9.380454\n",
      "20  28                    14.1250   9.860384\n",
      "8   11                    14.6250  10.209424\n",
      "1    3                    20.5000  14.310646\n"
     ]
    },
    {
     "data": {
      "text/plain": [
       "<matplotlib.axes._subplots.AxesSubplot at 0x2a27ec62940>"
      ]
     },
     "execution_count": 635,
     "metadata": {},
     "output_type": "execute_result"
    },
    {
     "data": {
      "image/png": "[encoded data removed]",
      "text/plain": [
       "<Figure size 720x360 with 1 Axes>"
      ]
     },
     "metadata": {},
     "output_type": "display_data"
    }
   ],
   "source": [
    "depend('ID')"
   ]
  },
  {
   "cell_type": "markdown",
   "metadata": {},
   "source": [
    "The top five ids (3,11,28,20,34)  should be given proper warning or the company can  take actions against them."
   ]
  },
  {
   "cell_type": "code",
   "execution_count": 636,
   "metadata": {},
   "outputs": [
    {
     "name": "stdout",
     "output_type": "stream",
     "text": [
      "  Day of the week  Absenteeism time in hours        per\n",
      "4               6                    25.5000  17.801047\n",
      "3               5                    27.1250  18.935428\n",
      "1               3                    28.6875  20.026178\n",
      "2               4                    30.5625  21.335079\n",
      "0               2                    31.3750  21.902269\n"
     ]
    },
    {
     "data": {
      "text/plain": [
       "<matplotlib.axes._subplots.AxesSubplot at 0x2a27ed2df28>"
      ]
     },
     "execution_count": 636,
     "metadata": {},
     "output_type": "execute_result"
    },
    {
     "data": {
      "image/png": "[encoded data removed]",
      "text/plain": [
       "<Figure size 720x360 with 1 Axes>"
      ]
     },
     "metadata": {},
     "output_type": "display_data"
    }
   ],
   "source": [
    "depend('Day of the week')"
   ]
  },
  {
   "cell_type": "markdown",
   "metadata": {},
   "source": [
    "Top 3 days in order of Absenteeism time are:\n",
    "\n",
    "Day 2:Monday - 21.90 % of total time\n",
    "\n",
    "Day 4:Wednesday - 21.33 % of total time\n",
    "\n",
    "Day 3:Tuesday - 20.02% of total time\n",
    "\n",
    "Company can ask the employees to not take leave on Mondays. The company can also keep any activity (related to fun) so that employee come on Monday with some motivation."
   ]
  },
  {
   "cell_type": "code",
   "execution_count": 637,
   "metadata": {},
   "outputs": [
    {
     "name": "stdout",
     "output_type": "stream",
     "text": [
      "  Seasons  Absenteeism time in hours        per\n",
      "2       3                    31.2500  21.815009\n",
      "0       1                    31.5625  22.033159\n",
      "3       4                    39.6250  27.661431\n",
      "1       2                    40.8125  28.490401\n"
     ]
    },
    {
     "data": {
      "text/plain": [
       "<matplotlib.axes._subplots.AxesSubplot at 0x2a27fd66e48>"
      ]
     },
     "execution_count": 637,
     "metadata": {},
     "output_type": "execute_result"
    },
    {
     "data": {
      "image/png": "[encoded data removed]",
      "text/plain": [
       "<Figure size 720x360 with 1 Axes>"
      ]
     },
     "metadata": {},
     "output_type": "display_data"
    }
   ],
   "source": [
    "depend('Seasons')"
   ]
  },
  {
   "cell_type": "markdown",
   "metadata": {},
   "source": [
    "Top 3 Season in order of Absenteeism time are:\n",
    "\n",
    "Season 2: Autumn -  28.49% of total time\n",
    "\n",
    "Season 4: Spring -  27.66% of total time\n"
   ]
  },
  {
   "cell_type": "code",
   "execution_count": 638,
   "metadata": {},
   "outputs": [
    {
     "name": "stdout",
     "output_type": "stream",
     "text": [
      "  Disciplinary failure  Absenteeism time in hours       per\n",
      "1                  1.0                       0.75   0.52356\n",
      "0                  0.0                     142.50  99.47644\n"
     ]
    },
    {
     "data": {
      "text/plain": [
       "<matplotlib.axes._subplots.AxesSubplot at 0x2a27fdd26a0>"
      ]
     },
     "execution_count": 638,
     "metadata": {},
     "output_type": "execute_result"
    },
    {
     "data": {
      "image/png": "[encoded data removed]",
      "text/plain": [
       "<Figure size 720x360 with 1 Axes>"
      ]
     },
     "metadata": {},
     "output_type": "display_data"
    }
   ],
   "source": [
    "depend('Disciplinary failure')"
   ]
  },
  {
   "cell_type": "markdown",
   "metadata": {},
   "source": [
    "99.47 % cases are of no disciplinary failure (no conclusion)\n"
   ]
  },
  {
   "cell_type": "code",
   "execution_count": 639,
   "metadata": {},
   "outputs": [
    {
     "name": "stdout",
     "output_type": "stream",
     "text": [
      "  Education  Absenteeism time in hours        per\n",
      "3       4.0                      0.000   0.000000\n",
      "1       2.0                      5.375   3.752182\n",
      "2       3.0                     17.375  12.129145\n",
      "0       1.0                    120.500  84.118674\n"
     ]
    },
    {
     "data": {
      "text/plain": [
       "<matplotlib.axes._subplots.AxesSubplot at 0x2a27fe356d8>"
      ]
     },
     "execution_count": 639,
     "metadata": {},
     "output_type": "execute_result"
    },
    {
     "data": {
      "image/png": "[encoded data removed]",
      "text/plain": [
       "<Figure size 720x360 with 1 Axes>"
      ]
     },
     "metadata": {},
     "output_type": "display_data"
    }
   ],
   "source": [
    "depend('Education')"
   ]
  },
  {
   "cell_type": "markdown",
   "metadata": {},
   "source": [
    "high school education :99.47 %\n",
    "\n",
    "But this may be due to many people having high school education. No conclusion may be drawn from this graph."
   ]
  },
  {
   "cell_type": "code",
   "execution_count": 640,
   "metadata": {},
   "outputs": [
    {
     "name": "stdout",
     "output_type": "stream",
     "text": [
      "   Son  Absenteeism time in hours        per\n",
      "3  3.0                     4.0625   2.835951\n",
      "4  4.0                    13.2500   9.249564\n",
      "2  2.0                    35.2500  24.607330\n",
      "1  1.0                    40.9375  28.577661\n",
      "0  0.0                    49.7500  34.729494\n"
     ]
    },
    {
     "data": {
      "text/plain": [
       "<matplotlib.axes._subplots.AxesSubplot at 0x2a27fe69cc0>"
      ]
     },
     "execution_count": 640,
     "metadata": {},
     "output_type": "execute_result"
    },
    {
     "data": {
      "image/png": "[encoded data removed]",
      "text/plain": [
       "<Figure size 720x360 with 1 Axes>"
      ]
     },
     "metadata": {},
     "output_type": "display_data"
    }
   ],
   "source": [
    "depend('Son')"
   ]
  },
  {
   "cell_type": "markdown",
   "metadata": {},
   "source": [
    "Top 3 pet reason in order of Absenteeism time are:\n",
    "\n",
    "no of son :0 -  34.72% of total time\n",
    "\n",
    "no of son :1-   28.57% of total time"
   ]
  },
  {
   "cell_type": "code",
   "execution_count": 641,
   "metadata": {},
   "outputs": [
    {
     "name": "stdout",
     "output_type": "stream",
     "text": [
      "  Social drinker  Absenteeism time in hours        per\n",
      "0            0.0                      60.50  42.233857\n",
      "1            1.0                      82.75  57.766143\n"
     ]
    },
    {
     "data": {
      "text/plain": [
       "<matplotlib.axes._subplots.AxesSubplot at 0x2a27ff04cc0>"
      ]
     },
     "execution_count": 641,
     "metadata": {},
     "output_type": "execute_result"
    },
    {
     "data": {
      "image/png": "[encoded data removed]",
      "text/plain": [
       "<Figure size 720x360 with 1 Axes>"
      ]
     },
     "metadata": {},
     "output_type": "display_data"
    }
   ],
   "source": [
    "depend('Social drinker')"
   ]
  },
  {
   "cell_type": "markdown",
   "metadata": {},
   "source": [
    "Top reason in order of Absenteeism time are:\n",
    "\n",
    "social drinker (yes) - 57.76% of total time\n",
    "\n",
    "social drinker (No) -  42.23% of total time\n",
    "\n",
    "company should  ask these employees to reduce the amount to alcohol during weekdays."
   ]
  },
  {
   "cell_type": "code",
   "execution_count": 642,
   "metadata": {},
   "outputs": [
    {
     "name": "stdout",
     "output_type": "stream",
     "text": [
      "  Social smoker  Absenteeism time in hours        per\n",
      "1           1.0                    11.4375   7.984293\n",
      "0           0.0                   131.8125  92.015707\n"
     ]
    },
    {
     "data": {
      "text/plain": [
       "<matplotlib.axes._subplots.AxesSubplot at 0x2a27ff65898>"
      ]
     },
     "execution_count": 642,
     "metadata": {},
     "output_type": "execute_result"
    },
    {
     "data": {
      "image/png": "[encoded data removed]",
      "text/plain": [
       "<Figure size 720x360 with 1 Axes>"
      ]
     },
     "metadata": {},
     "output_type": "display_data"
    }
   ],
   "source": [
    "depend('Social smoker')"
   ]
  },
  {
   "cell_type": "markdown",
   "metadata": {},
   "source": [
    "\n",
    "Top reason in order of Absenteeism time are:\n",
    "\n",
    "social Smoker (No) - 92.01% of total time\n",
    "\n",
    "social smoker (YES) - 7.9% of total time\n",
    "\n",
    "\n",
    "No conclusion"
   ]
  },
  {
   "cell_type": "code",
   "execution_count": 643,
   "metadata": {},
   "outputs": [
    {
     "name": "stdout",
     "output_type": "stream",
     "text": [
      "   Pet  Absenteeism time in hours        per\n",
      "4  5.0                     0.0000   0.000000\n",
      "5  8.0                     0.0000   0.000000\n",
      "3  4.0                    10.1250   7.068063\n",
      "2  2.0                    18.6250  13.001745\n",
      "1  1.0                    32.1875  22.469459\n",
      "0  0.0                    82.3125  57.460733\n"
     ]
    },
    {
     "data": {
      "text/plain": [
       "<matplotlib.axes._subplots.AxesSubplot at 0x2a27ffc95c0>"
      ]
     },
     "execution_count": 643,
     "metadata": {},
     "output_type": "execute_result"
    },
    {
     "data": {
      "image/png": "[encoded data removed]",
      "text/plain": [
       "<Figure size 720x360 with 1 Axes>"
      ]
     },
     "metadata": {},
     "output_type": "display_data"
    }
   ],
   "source": [
    "depend('Pet')"
   ]
  },
  {
   "cell_type": "markdown",
   "metadata": {},
   "source": [
    "\n",
    "Top reason in order of Absenteeism time are:\n",
    "\n",
    "Pet(0) - 57.46% of total time\n",
    "\n",
    "Pet (1) - 22.46% of total time\n",
    "\n",
    "No conclusion"
   ]
  },
  {
   "cell_type": "code",
   "execution_count": 644,
   "metadata": {},
   "outputs": [],
   "source": [
    "df = absent.copy()"
   ]
  },
  {
   "cell_type": "code",
   "execution_count": 645,
   "metadata": {},
   "outputs": [],
   "source": [
    "col_final=df.columns "
   ]
  },
  {
   "cell_type": "code",
   "execution_count": 646,
   "metadata": {},
   "outputs": [
    {
     "data": {
      "text/html": [
       "<div>\n",
       "<style scoped>\n",
       "    .dataframe tbody tr th:only-of-type {\n",
       "        vertical-align: middle;\n",
       "    }\n",
       "\n",
       "    .dataframe tbody tr th {\n",
       "        vertical-align: top;\n",
       "    }\n",
       "\n",
       "    .dataframe thead th {\n",
       "        text-align: right;\n",
       "    }\n",
       "</style>\n",
       "<table border=\"1\" class=\"dataframe\">\n",
       "  <thead>\n",
       "    <tr style=\"text-align: right;\">\n",
       "      <th></th>\n",
       "      <th>ID</th>\n",
       "      <th>Reason for absence</th>\n",
       "      <th>Month of absence</th>\n",
       "      <th>Day of the week</th>\n",
       "      <th>Seasons</th>\n",
       "      <th>Transportation expense</th>\n",
       "      <th>Service time</th>\n",
       "      <th>Age</th>\n",
       "      <th>Work load Average per day</th>\n",
       "      <th>Hit target</th>\n",
       "      <th>Disciplinary failure</th>\n",
       "      <th>Education</th>\n",
       "      <th>Son</th>\n",
       "      <th>Social drinker</th>\n",
       "      <th>Social smoker</th>\n",
       "      <th>Pet</th>\n",
       "      <th>Weight</th>\n",
       "      <th>Height</th>\n",
       "      <th>Absenteeism time in hours</th>\n",
       "    </tr>\n",
       "  </thead>\n",
       "  <tbody>\n",
       "    <tr>\n",
       "      <th>0</th>\n",
       "      <td>11</td>\n",
       "      <td>26.0</td>\n",
       "      <td>7.0</td>\n",
       "      <td>3</td>\n",
       "      <td>1</td>\n",
       "      <td>0.657692</td>\n",
       "      <td>0.476190</td>\n",
       "      <td>0.230769</td>\n",
       "      <td>0.244925</td>\n",
       "      <td>0.75</td>\n",
       "      <td>0.0</td>\n",
       "      <td>1.0</td>\n",
       "      <td>2.0</td>\n",
       "      <td>1.0</td>\n",
       "      <td>0.0</td>\n",
       "      <td>1.0</td>\n",
       "      <td>0.68</td>\n",
       "      <td>0.7</td>\n",
       "      <td>0.250</td>\n",
       "    </tr>\n",
       "    <tr>\n",
       "      <th>2</th>\n",
       "      <td>3</td>\n",
       "      <td>23.0</td>\n",
       "      <td>7.0</td>\n",
       "      <td>4</td>\n",
       "      <td>1</td>\n",
       "      <td>0.234615</td>\n",
       "      <td>0.714286</td>\n",
       "      <td>0.423077</td>\n",
       "      <td>0.244925</td>\n",
       "      <td>0.75</td>\n",
       "      <td>0.0</td>\n",
       "      <td>1.0</td>\n",
       "      <td>0.0</td>\n",
       "      <td>1.0</td>\n",
       "      <td>0.0</td>\n",
       "      <td>0.0</td>\n",
       "      <td>0.66</td>\n",
       "      <td>0.5</td>\n",
       "      <td>0.125</td>\n",
       "    </tr>\n",
       "    <tr>\n",
       "      <th>3</th>\n",
       "      <td>7</td>\n",
       "      <td>7.0</td>\n",
       "      <td>7.0</td>\n",
       "      <td>5</td>\n",
       "      <td>1</td>\n",
       "      <td>0.619231</td>\n",
       "      <td>0.523810</td>\n",
       "      <td>0.461538</td>\n",
       "      <td>0.244925</td>\n",
       "      <td>0.75</td>\n",
       "      <td>0.0</td>\n",
       "      <td>1.0</td>\n",
       "      <td>2.0</td>\n",
       "      <td>1.0</td>\n",
       "      <td>1.0</td>\n",
       "      <td>0.0</td>\n",
       "      <td>0.24</td>\n",
       "      <td>0.3</td>\n",
       "      <td>0.250</td>\n",
       "    </tr>\n",
       "    <tr>\n",
       "      <th>4</th>\n",
       "      <td>11</td>\n",
       "      <td>23.0</td>\n",
       "      <td>7.0</td>\n",
       "      <td>5</td>\n",
       "      <td>1</td>\n",
       "      <td>0.657692</td>\n",
       "      <td>0.476190</td>\n",
       "      <td>0.230769</td>\n",
       "      <td>0.244925</td>\n",
       "      <td>0.75</td>\n",
       "      <td>0.0</td>\n",
       "      <td>1.0</td>\n",
       "      <td>2.0</td>\n",
       "      <td>1.0</td>\n",
       "      <td>0.0</td>\n",
       "      <td>1.0</td>\n",
       "      <td>0.68</td>\n",
       "      <td>0.7</td>\n",
       "      <td>0.125</td>\n",
       "    </tr>\n",
       "    <tr>\n",
       "      <th>5</th>\n",
       "      <td>3</td>\n",
       "      <td>23.0</td>\n",
       "      <td>7.0</td>\n",
       "      <td>6</td>\n",
       "      <td>1</td>\n",
       "      <td>0.234615</td>\n",
       "      <td>0.714286</td>\n",
       "      <td>0.423077</td>\n",
       "      <td>0.244925</td>\n",
       "      <td>0.75</td>\n",
       "      <td>0.0</td>\n",
       "      <td>1.0</td>\n",
       "      <td>0.0</td>\n",
       "      <td>1.0</td>\n",
       "      <td>0.0</td>\n",
       "      <td>0.0</td>\n",
       "      <td>0.66</td>\n",
       "      <td>0.5</td>\n",
       "      <td>0.125</td>\n",
       "    </tr>\n",
       "  </tbody>\n",
       "</table>\n",
       "</div>"
      ],
      "text/plain": [
       "   ID Reason for absence Month of absence Day of the week Seasons  Transportation expense  Service time       Age  Work load Average per day  Hit target Disciplinary failure Education  Son  \\\n",
       "0  11               26.0              7.0               3       1                0.657692      0.476190  0.230769                   0.244925        0.75                  0.0       1.0  2.0   \n",
       "2   3               23.0              7.0               4       1                0.234615      0.714286  0.423077                   0.244925        0.75                  0.0       1.0  0.0   \n",
       "3   7                7.0              7.0               5       1                0.619231      0.523810  0.461538                   0.244925        0.75                  0.0       1.0  2.0   \n",
       "4  11               23.0              7.0               5       1                0.657692      0.476190  0.230769                   0.244925        0.75                  0.0       1.0  2.0   \n",
       "5   3               23.0              7.0               6       1                0.234615      0.714286  0.423077                   0.244925        0.75                  0.0       1.0  0.0   \n",
       "\n",
       "  Social drinker Social smoker  Pet  Weight  Height  Absenteeism time in hours  \n",
       "0            1.0           0.0  1.0    0.68     0.7                      0.250  \n",
       "2            1.0           0.0  0.0    0.66     0.5                      0.125  \n",
       "3            1.0           1.0  0.0    0.24     0.3                      0.250  \n",
       "4            1.0           0.0  1.0    0.68     0.7                      0.125  \n",
       "5            1.0           0.0  0.0    0.66     0.5                      0.125  "
      ]
     },
     "execution_count": 646,
     "metadata": {},
     "output_type": "execute_result"
    }
   ],
   "source": [
    "df.head()"
   ]
  },
  {
   "cell_type": "markdown",
   "metadata": {},
   "source": [
    "# models"
   ]
  },
  {
   "cell_type": "code",
   "execution_count": 647,
   "metadata": {},
   "outputs": [],
   "source": [
    "from sklearn.model_selection import train_test_split\n",
    "from sklearn.linear_model import LinearRegression\n",
    "import statsmodels.api as sm\n"
   ]
  },
  {
   "cell_type": "code",
   "execution_count": 648,
   "metadata": {},
   "outputs": [],
   "source": [
    "train , test = train_test_split(df, test_size = 0.2)"
   ]
  },
  {
   "cell_type": "code",
   "execution_count": 649,
   "metadata": {},
   "outputs": [
    {
     "data": {
      "text/plain": [
       "(424, 19)"
      ]
     },
     "execution_count": 649,
     "metadata": {},
     "output_type": "execute_result"
    }
   ],
   "source": [
    "train.shape"
   ]
  },
  {
   "cell_type": "code",
   "execution_count": null,
   "metadata": {},
   "outputs": [],
   "source": []
  },
  {
   "cell_type": "code",
   "execution_count": 650,
   "metadata": {},
   "outputs": [],
   "source": [
    "x_train = train.iloc[:,0:18]\n",
    "y_train = train.iloc[:,18]\n",
    "\n",
    "x_test = test.iloc[:,0:18]\n",
    "y_test = test.iloc[:,18]"
   ]
  },
  {
   "cell_type": "markdown",
   "metadata": {},
   "source": [
    "# decision tree"
   ]
  },
  {
   "cell_type": "code",
   "execution_count": 651,
   "metadata": {},
   "outputs": [
    {
     "name": "stdout",
     "output_type": "stream",
     "text": [
      "     actual   pred\n",
      "332   0.500  0.500\n",
      "181   0.125  0.125\n",
      "142   0.125  0.250\n",
      "268   0.500  0.500\n",
      "637   0.500  0.250\n",
      "MEAN ABSOLUTE ERROR 0.1328855140186916\n",
      "ACCURACY 86.71144859813084\n"
     ]
    }
   ],
   "source": [
    "from sklearn.tree import DecisionTreeRegressor\n",
    "from sklearn.metrics import mean_squared_error\n",
    "from sklearn.metrics import mean_absolute_error\n",
    "\n",
    "# decsion tree model\n",
    "dt_model = DecisionTreeRegressor(random_state = 1).fit(x_train,y_train)\n",
    "\n",
    "# Perdict for x_test\n",
    "dt_pred = dt_model.predict(x_test)\n",
    "\n",
    "# data frame for actual and predicted values\n",
    "df_dt = pd.DataFrame({'actual': y_test, 'pred': dt_pred})\n",
    "print(df_dt.head())\n",
    "\n",
    "error_dt=mean_absolute_error(test.iloc[:,18], dt_pred)\n",
    "\n",
    "# errors and accuracy calculation\n",
    "print(\"MEAN ABSOLUTE ERROR \"+ str(error_dt))\n",
    "print(\"ACCURACY \"+ str((1-(error_dt))*100))\n"
   ]
  },
  {
   "cell_type": "markdown",
   "metadata": {},
   "source": [
    "# Random forest"
   ]
  },
  {
   "cell_type": "code",
   "execution_count": 654,
   "metadata": {},
   "outputs": [
    {
     "name": "stdout",
     "output_type": "stream",
     "text": [
      "     actual      pred\n",
      "332   0.500  0.493875\n",
      "181   0.125  0.088800\n",
      "142   0.125  0.242315\n",
      "268   0.500  0.466000\n",
      "637   0.500  0.243375\n",
      "MEAN ABSOLUTE ERROR 0.10759835057854916\n",
      "ACCURACY 89.24016494214509\n"
     ]
    }
   ],
   "source": [
    "from sklearn.ensemble import RandomForestRegressor\n",
    "from sklearn.metrics import mean_absolute_error\n",
    "\n",
    "#forest model using RandomForestRegressor\n",
    "rf_model = RandomForestRegressor(n_estimators = 500, random_state = 1).fit(x_train,y_train)\n",
    "\n",
    "#Perdict for test cases\n",
    "rf_pred = rf_model.predict(x_test)\n",
    "\n",
    "#Create data frame for actual and predicted values\n",
    "df_rf = pd.DataFrame({'actual': y_test, 'pred': rf_pred})\n",
    "\n",
    "print(df_rf.head())\n",
    "\n",
    "error_rf=mean_absolute_error(test.iloc[:,18], rf_pred)\n",
    "\n",
    "# errors and accuracy calculation\n",
    "print(\"MEAN ABSOLUTE ERROR \"+ str(error_rf))\n",
    "print(\"ACCURACY \"+ str((1-(error_rf))*100))\n"
   ]
  },
  {
   "cell_type": "markdown",
   "metadata": {},
   "source": [
    "# Linear"
   ]
  },
  {
   "cell_type": "code",
   "execution_count": 656,
   "metadata": {},
   "outputs": [
    {
     "name": "stdout",
     "output_type": "stream",
     "text": [
      "     actual      pred\n",
      "332   0.500  0.254003\n",
      "181   0.125  0.161429\n",
      "142   0.125  0.338306\n",
      "268   0.500  0.492050\n",
      "637   0.500  0.359345\n",
      "MEAN ABSOLUTE ERROR 0.12797647735531223\n",
      "ACCURACY 87.20235226446877\n"
     ]
    },
    {
     "data": {
      "text/plain": [
       "[]"
      ]
     },
     "execution_count": 656,
     "metadata": {},
     "output_type": "execute_result"
    },
    {
     "data": {
      "image/png": "[encoded data removed]",
      "text/plain": [
       "<Figure size 720x360 with 1 Axes>"
      ]
     },
     "metadata": {},
     "output_type": "display_data"
    }
   ],
   "source": [
    "from sklearn.linear_model import LinearRegression\n",
    "from sklearn.metrics import mean_absolute_error\n",
    "\n",
    "#Train the model\n",
    "lr_model = LinearRegression().fit(x_train , y_train)\n",
    "\n",
    "#Perdiction for x_test\n",
    "lr_pred = lr_model.predict(x_test)\n",
    "\n",
    "#Cdata frame for actual and predicted values\n",
    "df_lr = pd.DataFrame({'actual': y_test, 'pred': lr_pred})\n",
    "print(df_lr.head())\n",
    "\n",
    "error_lr=mean_absolute_error(test.iloc[:,18], lr_pred)\n",
    "\n",
    "# errors and accuracy calculation\n",
    "print(\"MEAN ABSOLUTE ERROR \"+ str(error_lr))\n",
    "print(\"ACCURACY \"+ str((1-(error_lr))*100))\n",
    "\n",
    "lr_model.score(x_test,y_test)\n",
    "plt.plot()"
   ]
  },
  {
   "cell_type": "markdown",
   "metadata": {},
   "source": [
    "# OLS"
   ]
  },
  {
   "cell_type": "code",
   "execution_count": 658,
   "metadata": {},
   "outputs": [
    {
     "name": "stdout",
     "output_type": "stream",
     "text": [
      "     actual      pred\n",
      "332   0.500  0.315611\n",
      "181   0.125  0.199324\n",
      "142   0.125  0.350855\n",
      "268   0.500  0.647232\n",
      "637   0.500  0.314648\n",
      "MEAN ABSOLUTE ERROR 0.13126179228497972\n",
      "ACCURACY 86.87382077150203\n"
     ]
    }
   ],
   "source": [
    "#importing statsmodels.api \n",
    "import statsmodels.api as sm\n",
    "\n",
    "#model.score(x_test, y_test)\n",
    "model = sm.OLS(y_train, x_train.astype(float)).fit()\n",
    "\n",
    "#parameters of model(OLS)\n",
    "model.params\n",
    "\n",
    "#Perdict for test data\n",
    "ols_pred= model.predict(x_test)\n",
    "\n",
    "#Create data frame for actual and predicted values\n",
    "df_ols = pd.DataFrame({'actual': y_test, 'pred': ols_pred})\n",
    "print(df_ols.head())\n",
    "\n",
    "\n",
    "#mean asbolute error\n",
    "error_ols=mean_absolute_error(test.iloc[:,18], ols_pred)\n",
    "\n",
    "# errors and accuracy calculation\n",
    "print(\"MEAN ABSOLUTE ERROR \"+ str(error_ols))\n",
    "print(\"ACCURACY \"+ str((1-(error_ols))*100))\n"
   ]
  },
  {
   "cell_type": "code",
   "execution_count": null,
   "metadata": {},
   "outputs": [],
   "source": []
  },
  {
   "cell_type": "code",
   "execution_count": null,
   "metadata": {},
   "outputs": [],
   "source": []
  }
 ],
 "metadata": {
  "kernelspec": {
   "display_name": "Python 3",
   "language": "python",
   "name": "python3"
  },
  "language_info": {
   "codemirror_mode": {
    "name": "ipython",
    "version": 3
   },
   "file_extension": ".py",
   "mimetype": "text/x-python",
   "name": "python",
   "nbconvert_exporter": "python",
   "pygments_lexer": "ipython3",
   "version": "3.6.7"
  }
 },
 "nbformat": 4,
 "nbformat_minor": 2
}
